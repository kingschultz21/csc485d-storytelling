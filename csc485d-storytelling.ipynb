{
 "nbformat": 4,
 "nbformat_minor": 2,
 "metadata": {
  "language_info": {
   "name": "python",
   "codemirror_mode": {
    "name": "ipython",
    "version": 3
   },
   "version": "3.7.5-final"
  },
  "orig_nbformat": 2,
  "file_extension": ".py",
  "mimetype": "text/x-python",
  "name": "python",
  "npconvert_exporter": "python",
  "pygments_lexer": "ipython3",
  "version": 3,
  "kernelspec": {
   "name": "python3",
   "display_name": "Python 3"
  }
 },
 "cells": [
  {
   "cell_type": "markdown",
   "metadata": {},
   "source": [
    "## CSC 485D Storytelling Assignment: Visualization of the UVic Investment Portfolio\n",
    "#### By: Connor Schultz"
   ]
  },
  {
   "cell_type": "code",
   "execution_count": 154,
   "metadata": {},
   "outputs": [],
   "source": [
    "# Python Modules\n",
    "import os, logging \n",
    "\n",
    "# Visualization Modules\n",
    "import plotly.offline as py\n",
    "import plotly.graph_objs as go\n",
    "\n",
    "# Numerical/ Data Modules\n",
    "import pandas as pd\n",
    "import numpy as np\n",
    "import json"
   ]
  },
  {
   "cell_type": "code",
   "execution_count": 222,
   "metadata": {},
   "outputs": [],
   "source": [
    "# Functions used for data visualization (plotly wrappers)\n",
    "def grouped_bar(df):\n",
    "    # Make plotly Figure object\n",
    "    fig = go.Figure(data = [\n",
    "        go.Bar(\n",
    "            name = \"Original Cost (CAD)\",\n",
    "            x=df['Title'], \n",
    "            y=df['original cost (price paid total in CAD)']\n",
    "        ),\n",
    "        go.Bar(\n",
    "            name = \"Market Value (CAD)\",\n",
    "            x=df['Title'], \n",
    "            y=df['market value (at end of year in CAD)']\n",
    "        ),\n",
    "        go.Bar(\n",
    "            name = \"Unrealized Gain (CAD)\",\n",
    "            x=df['Title'], \n",
    "            y=df['Unrealized Gain (cashable profits in CAD)']\n",
    "        )\n",
    "    ])\n",
    "    fig.update_layout(barmode='group') # group bars together\n",
    "    return fig\n",
    "\n",
    "def update(fig, title):\n",
    "    # Update plotly figure object to project styling\n",
    "    fig.update_layout(\n",
    "        title=title,\n",
    "        yaxis_title=\"Canadian Dollars (CAD)\",\n",
    "        font=dict(\n",
    "            family=\"Courier New, monospace\",\n",
    "            size=10,\n",
    "            color=\"#1f1f1f\"\n",
    "        )\n",
    "    )\n",
    "    return fig\n",
    "\n",
    "def update_total(fig):\n",
    "    # Update plotly figure object to project styling\n",
    "    fig.update_layout(\n",
    "        title=\"UVic Portfolio Breakdown: Unrecognized Gain (CAD)\",\n",
    "        yaxis_title=\"Canadian Dollars (CAD)\",\n",
    "        font=dict(\n",
    "            family=\"Courier New, monospace\",\n",
    "            size=10,\n",
    "            color=\"#1f1f1f\"\n",
    "        )\n",
    "    )\n",
    "    return fig\n"
   ]
  },
  {
   "cell_type": "markdown",
   "metadata": {},
   "source": [
    "### The Data\n",
    "The data used was obtained from the [Reports](https://www.uvic.ca/universitysecretary/otherbodies/foundations/reports/index.php) page of the [University of Victoria](https://www.uvic.ca/) website. The dataset contains all data from 2013 - 2019.\n",
    "\n"
   ]
  },
  {
   "cell_type": "markdown",
   "metadata": {},
   "source": [
    "### Data Visualization\n",
    "All visualizations below are interactive and support zooming, limiting of axes and hovering to reveal values. These visualizations were made using [University of Victoria](https://www.uvic.ca/)\n"
   ]
  },
  {
   "cell_type": "code",
   "execution_count": 156,
   "metadata": {},
   "outputs": [],
   "source": [
    "# Read in UVic Investment portfolio from a .csv file\n",
    "portfolio = pd.read_csv('uvic-portfolio.csv')"
   ]
  },
  {
   "cell_type": "markdown",
   "metadata": {},
   "source": [
    "### 1. Fixed Income Investments\n",
    "Fixed income investments pay a return on a fixed schedule. Common examples of fixed income investments include treasury bonds and certificates of deposit."
   ]
  },
  {
   "cell_type": "code",
   "execution_count": 157,
   "metadata": {},
   "outputs": [
    {
     "data": {
      "application/vnd.plotly.v1+json": {
       "config": {
        "plotlyServerURL": "https://plot.ly"
       },
       "data": [
        {
         "name": "Original Cost (CAD)",
         "type": "bar",
         "x": [
          "BANK OF MONTREAL MTN SUBORDINATED FIX TO FLT",
          "BANK OF NOVA SCOTIA SUB NOTES FIX-FLT CALL",
          "CANADA HOUSING TRUST 1 CDA MTG BD SER 40",
          "CANADA HOUSING TRUST 1 CDA MTG BD SER 45",
          "CANADA HOUSING TRUST 3.35% 15DEC20",
          "CANADA HOUSING TRUST GLOBAL NO 1 SER 23",
          "CBC MONETIZATION TRUST NOTE",
          "CIBC SUB DEBE MTN FIX-TO-FLOAT 30APR2015",
          "HOSPITAL FOR SICK CHILDREN SER A",
          "MUNICIPAL FINANCE AUTHORITY BC UNSECURED",
          "NATIONAL BANK CANADA MTN FIX-TO-FLOAT CALL",
          "NEW BRUNSWICK (PROV OF) SINKING FD DEBENTURES",
          "NEW BRUNSWICK PROVICE OF",
          "NHA MBS P#96503636 BY EQUITABLE TRUST CO",
          "NHA MBS P#96505011 PEOPLES TRUST CO",
          "ONTARIO (PROVINCE OF )",
          "ONTARIO (PROVINCE OF) BOND",
          "ONTARIO (PROVINCE OF) BOND UNSECD",
          "ONTARIO (PROVINCE OF) UNSECD",
          "ONTARIO (PROVINCE OF) UNSECD",
          "ONTARIO HYDRO DEB",
          "ONTARIO PROV CDA",
          "ONTARIO PROV CDA DEB",
          "ONTARIO PROVINCE",
          "ONTARIO PROVINCE CANADA",
          "ONTARIO PROVINCE CANADA",
          "ONTARIO PROVINCE CANADA",
          "ONTARIO PROVINCE CANADA BOND",
          "ONTARIO PROVINCE CDA NON-CALL DEB",
          "ONTARIO PROVINCE DEBENTURE",
          "ONTARIO PROVINCE OF SER DMTN215 BOND",
          "QUEBEC PROVINCE CANADA",
          "QUEBEC PROVINCE CANADA",
          "QUEBEC PROVINCE DEB",
          "QUEBEC PROVINCE DEB",
          "QUEBEC PROVINCE NTS",
          "QUEBEC PROVINCE OF",
          "SOUTH COAST BC TRANSPORTATION 3.8% BD 02NOV20",
          "ONTARIO PROVINCE CDA GENERIC PRINCIPAL",
          "QUEBEC PROV CDA GENERIC PRIN 01122041",
          "PHILIPS HAGER & NORTH MORTGAGE PE TR FUND SER 0 430*",
          "PHILIPS HAGER & NORTH FOREIGN BOND FUND SER 0*",
          "PHILIPS HAGER & NORTH HIGH YIELD BOND FD SER-0 PHN285*",
          "PHILIPS HAGER & NORTH INVESTMENT GRADE CO BND TR SER 0*"
         ],
         "y": [
          "35,377",
          "34,874",
          "1,252,448",
          "539,468",
          "338,851",
          "1,789,848",
          "86,903",
          "33,802",
          "151,358",
          "55,934",
          "33,254",
          "132,849",
          "356,376",
          "272,774",
          "82,091",
          "2,274,857",
          "1,312,802",
          "566,626",
          "858,114",
          "489,982",
          "1,003,788",
          "1,845,534",
          "2,568,248",
          "4,192,361",
          "1,145,890",
          "2,891,581",
          "777,908",
          "1,497,454",
          "186,207",
          "1,398,177",
          "1,008,503",
          "235,126",
          "1,205,721",
          "397,250",
          "480,489",
          "749,536",
          "83,970",
          "314,767",
          "218,687",
          "144,122",
          "6,249,468",
          "568,442",
          "3,390,190",
          "44,447,012"
         ]
        },
        {
         "name": "Market Value (CAD)",
         "type": "bar",
         "x": [
          "BANK OF MONTREAL MTN SUBORDINATED FIX TO FLT",
          "BANK OF NOVA SCOTIA SUB NOTES FIX-FLT CALL",
          "CANADA HOUSING TRUST 1 CDA MTG BD SER 40",
          "CANADA HOUSING TRUST 1 CDA MTG BD SER 45",
          "CANADA HOUSING TRUST 3.35% 15DEC20",
          "CANADA HOUSING TRUST GLOBAL NO 1 SER 23",
          "CBC MONETIZATION TRUST NOTE",
          "CIBC SUB DEBE MTN FIX-TO-FLOAT 30APR2015",
          "HOSPITAL FOR SICK CHILDREN SER A",
          "MUNICIPAL FINANCE AUTHORITY BC UNSECURED",
          "NATIONAL BANK CANADA MTN FIX-TO-FLOAT CALL",
          "NEW BRUNSWICK (PROV OF) SINKING FD DEBENTURES",
          "NEW BRUNSWICK PROVICE OF",
          "NHA MBS P#96503636 BY EQUITABLE TRUST CO",
          "NHA MBS P#96505011 PEOPLES TRUST CO",
          "ONTARIO (PROVINCE OF )",
          "ONTARIO (PROVINCE OF) BOND",
          "ONTARIO (PROVINCE OF) BOND UNSECD",
          "ONTARIO (PROVINCE OF) UNSECD",
          "ONTARIO (PROVINCE OF) UNSECD",
          "ONTARIO HYDRO DEB",
          "ONTARIO PROV CDA",
          "ONTARIO PROV CDA DEB",
          "ONTARIO PROVINCE",
          "ONTARIO PROVINCE CANADA",
          "ONTARIO PROVINCE CANADA",
          "ONTARIO PROVINCE CANADA",
          "ONTARIO PROVINCE CANADA BOND",
          "ONTARIO PROVINCE CDA NON-CALL DEB",
          "ONTARIO PROVINCE DEBENTURE",
          "ONTARIO PROVINCE OF SER DMTN215 BOND",
          "QUEBEC PROVINCE CANADA",
          "QUEBEC PROVINCE CANADA",
          "QUEBEC PROVINCE DEB",
          "QUEBEC PROVINCE DEB",
          "QUEBEC PROVINCE NTS",
          "QUEBEC PROVINCE OF",
          "SOUTH COAST BC TRANSPORTATION 3.8% BD 02NOV20",
          "ONTARIO PROVINCE CDA GENERIC PRINCIPAL",
          "QUEBEC PROV CDA GENERIC PRIN 01122041",
          "PHILIPS HAGER & NORTH MORTGAGE PE TR FUND SER 0 430*",
          "PHILIPS HAGER & NORTH FOREIGN BOND FUND SER 0*",
          "PHILIPS HAGER & NORTH HIGH YIELD BOND FD SER-0 PHN285*",
          "PHILIPS HAGER & NORTH INVESTMENT GRADE CO BND TR SER 0*"
         ],
         "y": [
          "35,562",
          "33,039",
          "1,252,651",
          "552,489",
          "345,192",
          "1,780,775",
          "97,534",
          "33,897",
          "173,317",
          "57,233",
          "34,069",
          "130,183",
          "367,789",
          "284,427",
          "89,235",
          "2,274,706",
          "1,327,865",
          "575,797",
          "876,908",
          "489,717",
          "1,012,711",
          "1,852,065",
          "2,668,283",
          "4,181,698",
          "1,140,346",
          "2,917,671",
          "807,044",
          "1,516,118",
          "195,668",
          "1,312,862",
          "1,025,744",
          "221,258",
          "1,137,699",
          "375,085",
          "465,005",
          "779,779",
          "89,135",
          "333,216",
          "199,616",
          "130,462",
          "6,412,233",
          "589,630",
          "3,459,579",
          "43,947,009"
         ]
        },
        {
         "name": "Unrealized Gain (CAD)",
         "type": "bar",
         "x": [
          "BANK OF MONTREAL MTN SUBORDINATED FIX TO FLT",
          "BANK OF NOVA SCOTIA SUB NOTES FIX-FLT CALL",
          "CANADA HOUSING TRUST 1 CDA MTG BD SER 40",
          "CANADA HOUSING TRUST 1 CDA MTG BD SER 45",
          "CANADA HOUSING TRUST 3.35% 15DEC20",
          "CANADA HOUSING TRUST GLOBAL NO 1 SER 23",
          "CBC MONETIZATION TRUST NOTE",
          "CIBC SUB DEBE MTN FIX-TO-FLOAT 30APR2015",
          "HOSPITAL FOR SICK CHILDREN SER A",
          "MUNICIPAL FINANCE AUTHORITY BC UNSECURED",
          "NATIONAL BANK CANADA MTN FIX-TO-FLOAT CALL",
          "NEW BRUNSWICK (PROV OF) SINKING FD DEBENTURES",
          "NEW BRUNSWICK PROVICE OF",
          "NHA MBS P#96503636 BY EQUITABLE TRUST CO",
          "NHA MBS P#96505011 PEOPLES TRUST CO",
          "ONTARIO (PROVINCE OF )",
          "ONTARIO (PROVINCE OF) BOND",
          "ONTARIO (PROVINCE OF) BOND UNSECD",
          "ONTARIO (PROVINCE OF) UNSECD",
          "ONTARIO (PROVINCE OF) UNSECD",
          "ONTARIO HYDRO DEB",
          "ONTARIO PROV CDA",
          "ONTARIO PROV CDA DEB",
          "ONTARIO PROVINCE",
          "ONTARIO PROVINCE CANADA",
          "ONTARIO PROVINCE CANADA",
          "ONTARIO PROVINCE CANADA",
          "ONTARIO PROVINCE CANADA BOND",
          "ONTARIO PROVINCE CDA NON-CALL DEB",
          "ONTARIO PROVINCE DEBENTURE",
          "ONTARIO PROVINCE OF SER DMTN215 BOND",
          "QUEBEC PROVINCE CANADA",
          "QUEBEC PROVINCE CANADA",
          "QUEBEC PROVINCE DEB",
          "QUEBEC PROVINCE DEB",
          "QUEBEC PROVINCE NTS",
          "QUEBEC PROVINCE OF",
          "SOUTH COAST BC TRANSPORTATION 3.8% BD 02NOV20",
          "ONTARIO PROVINCE CDA GENERIC PRINCIPAL",
          "QUEBEC PROV CDA GENERIC PRIN 01122041",
          "PHILIPS HAGER & NORTH MORTGAGE PE TR FUND SER 0 430*",
          "PHILIPS HAGER & NORTH FOREIGN BOND FUND SER 0*",
          "PHILIPS HAGER & NORTH HIGH YIELD BOND FD SER-0 PHN285*",
          "PHILIPS HAGER & NORTH INVESTMENT GRADE CO BND TR SER 0*"
         ],
         "y": [
          "185",
          "-1,835",
          "202",
          "13,021",
          "6,341",
          "-9,072",
          "10,631",
          "95",
          "21,960",
          "1,299",
          "815",
          "-2,667",
          "11,414",
          "11,654",
          "7,143",
          "-152",
          "15,062",
          "9,171",
          "18,794",
          "-265",
          "8,924",
          "6,531",
          "100,034",
          "-10,664",
          "-5,545",
          "26,090",
          "29,136",
          "18,664",
          "9,461",
          "-85,315",
          "17,241",
          "-13,869",
          "-68,021",
          "-22,164",
          "-15,484",
          "30,243",
          "5,164",
          "18,449",
          "-19,071",
          "-13,660",
          "162,765",
          "21,188",
          "69,389",
          "-500,003"
         ]
        }
       ],
       "layout": {
        "barmode": "group",
        "font": {
         "color": "#1f1f1f",
         "family": "Courier New, monospace",
         "size": 10
        },
        "template": {
         "data": {
          "bar": [
           {
            "error_x": {
             "color": "#2a3f5f"
            },
            "error_y": {
             "color": "#2a3f5f"
            },
            "marker": {
             "line": {
              "color": "#E5ECF6",
              "width": 0.5
             }
            },
            "type": "bar"
           }
          ],
          "barpolar": [
           {
            "marker": {
             "line": {
              "color": "#E5ECF6",
              "width": 0.5
             }
            },
            "type": "barpolar"
           }
          ],
          "carpet": [
           {
            "aaxis": {
             "endlinecolor": "#2a3f5f",
             "gridcolor": "white",
             "linecolor": "white",
             "minorgridcolor": "white",
             "startlinecolor": "#2a3f5f"
            },
            "baxis": {
             "endlinecolor": "#2a3f5f",
             "gridcolor": "white",
             "linecolor": "white",
             "minorgridcolor": "white",
             "startlinecolor": "#2a3f5f"
            },
            "type": "carpet"
           }
          ],
          "choropleth": [
           {
            "colorbar": {
             "outlinewidth": 0,
             "ticks": ""
            },
            "type": "choropleth"
           }
          ],
          "contour": [
           {
            "colorbar": {
             "outlinewidth": 0,
             "ticks": ""
            },
            "colorscale": [
             [
              0,
              "#0d0887"
             ],
             [
              0.1111111111111111,
              "#46039f"
             ],
             [
              0.2222222222222222,
              "#7201a8"
             ],
             [
              0.3333333333333333,
              "#9c179e"
             ],
             [
              0.4444444444444444,
              "#bd3786"
             ],
             [
              0.5555555555555556,
              "#d8576b"
             ],
             [
              0.6666666666666666,
              "#ed7953"
             ],
             [
              0.7777777777777778,
              "#fb9f3a"
             ],
             [
              0.8888888888888888,
              "#fdca26"
             ],
             [
              1,
              "#f0f921"
             ]
            ],
            "type": "contour"
           }
          ],
          "contourcarpet": [
           {
            "colorbar": {
             "outlinewidth": 0,
             "ticks": ""
            },
            "type": "contourcarpet"
           }
          ],
          "heatmap": [
           {
            "colorbar": {
             "outlinewidth": 0,
             "ticks": ""
            },
            "colorscale": [
             [
              0,
              "#0d0887"
             ],
             [
              0.1111111111111111,
              "#46039f"
             ],
             [
              0.2222222222222222,
              "#7201a8"
             ],
             [
              0.3333333333333333,
              "#9c179e"
             ],
             [
              0.4444444444444444,
              "#bd3786"
             ],
             [
              0.5555555555555556,
              "#d8576b"
             ],
             [
              0.6666666666666666,
              "#ed7953"
             ],
             [
              0.7777777777777778,
              "#fb9f3a"
             ],
             [
              0.8888888888888888,
              "#fdca26"
             ],
             [
              1,
              "#f0f921"
             ]
            ],
            "type": "heatmap"
           }
          ],
          "heatmapgl": [
           {
            "colorbar": {
             "outlinewidth": 0,
             "ticks": ""
            },
            "colorscale": [
             [
              0,
              "#0d0887"
             ],
             [
              0.1111111111111111,
              "#46039f"
             ],
             [
              0.2222222222222222,
              "#7201a8"
             ],
             [
              0.3333333333333333,
              "#9c179e"
             ],
             [
              0.4444444444444444,
              "#bd3786"
             ],
             [
              0.5555555555555556,
              "#d8576b"
             ],
             [
              0.6666666666666666,
              "#ed7953"
             ],
             [
              0.7777777777777778,
              "#fb9f3a"
             ],
             [
              0.8888888888888888,
              "#fdca26"
             ],
             [
              1,
              "#f0f921"
             ]
            ],
            "type": "heatmapgl"
           }
          ],
          "histogram": [
           {
            "marker": {
             "colorbar": {
              "outlinewidth": 0,
              "ticks": ""
             }
            },
            "type": "histogram"
           }
          ],
          "histogram2d": [
           {
            "colorbar": {
             "outlinewidth": 0,
             "ticks": ""
            },
            "colorscale": [
             [
              0,
              "#0d0887"
             ],
             [
              0.1111111111111111,
              "#46039f"
             ],
             [
              0.2222222222222222,
              "#7201a8"
             ],
             [
              0.3333333333333333,
              "#9c179e"
             ],
             [
              0.4444444444444444,
              "#bd3786"
             ],
             [
              0.5555555555555556,
              "#d8576b"
             ],
             [
              0.6666666666666666,
              "#ed7953"
             ],
             [
              0.7777777777777778,
              "#fb9f3a"
             ],
             [
              0.8888888888888888,
              "#fdca26"
             ],
             [
              1,
              "#f0f921"
             ]
            ],
            "type": "histogram2d"
           }
          ],
          "histogram2dcontour": [
           {
            "colorbar": {
             "outlinewidth": 0,
             "ticks": ""
            },
            "colorscale": [
             [
              0,
              "#0d0887"
             ],
             [
              0.1111111111111111,
              "#46039f"
             ],
             [
              0.2222222222222222,
              "#7201a8"
             ],
             [
              0.3333333333333333,
              "#9c179e"
             ],
             [
              0.4444444444444444,
              "#bd3786"
             ],
             [
              0.5555555555555556,
              "#d8576b"
             ],
             [
              0.6666666666666666,
              "#ed7953"
             ],
             [
              0.7777777777777778,
              "#fb9f3a"
             ],
             [
              0.8888888888888888,
              "#fdca26"
             ],
             [
              1,
              "#f0f921"
             ]
            ],
            "type": "histogram2dcontour"
           }
          ],
          "mesh3d": [
           {
            "colorbar": {
             "outlinewidth": 0,
             "ticks": ""
            },
            "type": "mesh3d"
           }
          ],
          "parcoords": [
           {
            "line": {
             "colorbar": {
              "outlinewidth": 0,
              "ticks": ""
             }
            },
            "type": "parcoords"
           }
          ],
          "pie": [
           {
            "automargin": true,
            "type": "pie"
           }
          ],
          "scatter": [
           {
            "marker": {
             "colorbar": {
              "outlinewidth": 0,
              "ticks": ""
             }
            },
            "type": "scatter"
           }
          ],
          "scatter3d": [
           {
            "line": {
             "colorbar": {
              "outlinewidth": 0,
              "ticks": ""
             }
            },
            "marker": {
             "colorbar": {
              "outlinewidth": 0,
              "ticks": ""
             }
            },
            "type": "scatter3d"
           }
          ],
          "scattercarpet": [
           {
            "marker": {
             "colorbar": {
              "outlinewidth": 0,
              "ticks": ""
             }
            },
            "type": "scattercarpet"
           }
          ],
          "scattergeo": [
           {
            "marker": {
             "colorbar": {
              "outlinewidth": 0,
              "ticks": ""
             }
            },
            "type": "scattergeo"
           }
          ],
          "scattergl": [
           {
            "marker": {
             "colorbar": {
              "outlinewidth": 0,
              "ticks": ""
             }
            },
            "type": "scattergl"
           }
          ],
          "scattermapbox": [
           {
            "marker": {
             "colorbar": {
              "outlinewidth": 0,
              "ticks": ""
             }
            },
            "type": "scattermapbox"
           }
          ],
          "scatterpolar": [
           {
            "marker": {
             "colorbar": {
              "outlinewidth": 0,
              "ticks": ""
             }
            },
            "type": "scatterpolar"
           }
          ],
          "scatterpolargl": [
           {
            "marker": {
             "colorbar": {
              "outlinewidth": 0,
              "ticks": ""
             }
            },
            "type": "scatterpolargl"
           }
          ],
          "scatterternary": [
           {
            "marker": {
             "colorbar": {
              "outlinewidth": 0,
              "ticks": ""
             }
            },
            "type": "scatterternary"
           }
          ],
          "surface": [
           {
            "colorbar": {
             "outlinewidth": 0,
             "ticks": ""
            },
            "colorscale": [
             [
              0,
              "#0d0887"
             ],
             [
              0.1111111111111111,
              "#46039f"
             ],
             [
              0.2222222222222222,
              "#7201a8"
             ],
             [
              0.3333333333333333,
              "#9c179e"
             ],
             [
              0.4444444444444444,
              "#bd3786"
             ],
             [
              0.5555555555555556,
              "#d8576b"
             ],
             [
              0.6666666666666666,
              "#ed7953"
             ],
             [
              0.7777777777777778,
              "#fb9f3a"
             ],
             [
              0.8888888888888888,
              "#fdca26"
             ],
             [
              1,
              "#f0f921"
             ]
            ],
            "type": "surface"
           }
          ],
          "table": [
           {
            "cells": {
             "fill": {
              "color": "#EBF0F8"
             },
             "line": {
              "color": "white"
             }
            },
            "header": {
             "fill": {
              "color": "#C8D4E3"
             },
             "line": {
              "color": "white"
             }
            },
            "type": "table"
           }
          ]
         },
         "layout": {
          "annotationdefaults": {
           "arrowcolor": "#2a3f5f",
           "arrowhead": 0,
           "arrowwidth": 1
          },
          "coloraxis": {
           "colorbar": {
            "outlinewidth": 0,
            "ticks": ""
           }
          },
          "colorscale": {
           "diverging": [
            [
             0,
             "#8e0152"
            ],
            [
             0.1,
             "#c51b7d"
            ],
            [
             0.2,
             "#de77ae"
            ],
            [
             0.3,
             "#f1b6da"
            ],
            [
             0.4,
             "#fde0ef"
            ],
            [
             0.5,
             "#f7f7f7"
            ],
            [
             0.6,
             "#e6f5d0"
            ],
            [
             0.7,
             "#b8e186"
            ],
            [
             0.8,
             "#7fbc41"
            ],
            [
             0.9,
             "#4d9221"
            ],
            [
             1,
             "#276419"
            ]
           ],
           "sequential": [
            [
             0,
             "#0d0887"
            ],
            [
             0.1111111111111111,
             "#46039f"
            ],
            [
             0.2222222222222222,
             "#7201a8"
            ],
            [
             0.3333333333333333,
             "#9c179e"
            ],
            [
             0.4444444444444444,
             "#bd3786"
            ],
            [
             0.5555555555555556,
             "#d8576b"
            ],
            [
             0.6666666666666666,
             "#ed7953"
            ],
            [
             0.7777777777777778,
             "#fb9f3a"
            ],
            [
             0.8888888888888888,
             "#fdca26"
            ],
            [
             1,
             "#f0f921"
            ]
           ],
           "sequentialminus": [
            [
             0,
             "#0d0887"
            ],
            [
             0.1111111111111111,
             "#46039f"
            ],
            [
             0.2222222222222222,
             "#7201a8"
            ],
            [
             0.3333333333333333,
             "#9c179e"
            ],
            [
             0.4444444444444444,
             "#bd3786"
            ],
            [
             0.5555555555555556,
             "#d8576b"
            ],
            [
             0.6666666666666666,
             "#ed7953"
            ],
            [
             0.7777777777777778,
             "#fb9f3a"
            ],
            [
             0.8888888888888888,
             "#fdca26"
            ],
            [
             1,
             "#f0f921"
            ]
           ]
          },
          "colorway": [
           "#636efa",
           "#EF553B",
           "#00cc96",
           "#ab63fa",
           "#FFA15A",
           "#19d3f3",
           "#FF6692",
           "#B6E880",
           "#FF97FF",
           "#FECB52"
          ],
          "font": {
           "color": "#2a3f5f"
          },
          "geo": {
           "bgcolor": "white",
           "lakecolor": "white",
           "landcolor": "#E5ECF6",
           "showlakes": true,
           "showland": true,
           "subunitcolor": "white"
          },
          "hoverlabel": {
           "align": "left"
          },
          "hovermode": "closest",
          "mapbox": {
           "style": "light"
          },
          "paper_bgcolor": "white",
          "plot_bgcolor": "#E5ECF6",
          "polar": {
           "angularaxis": {
            "gridcolor": "white",
            "linecolor": "white",
            "ticks": ""
           },
           "bgcolor": "#E5ECF6",
           "radialaxis": {
            "gridcolor": "white",
            "linecolor": "white",
            "ticks": ""
           }
          },
          "scene": {
           "xaxis": {
            "backgroundcolor": "#E5ECF6",
            "gridcolor": "white",
            "gridwidth": 2,
            "linecolor": "white",
            "showbackground": true,
            "ticks": "",
            "zerolinecolor": "white"
           },
           "yaxis": {
            "backgroundcolor": "#E5ECF6",
            "gridcolor": "white",
            "gridwidth": 2,
            "linecolor": "white",
            "showbackground": true,
            "ticks": "",
            "zerolinecolor": "white"
           },
           "zaxis": {
            "backgroundcolor": "#E5ECF6",
            "gridcolor": "white",
            "gridwidth": 2,
            "linecolor": "white",
            "showbackground": true,
            "ticks": "",
            "zerolinecolor": "white"
           }
          },
          "shapedefaults": {
           "line": {
            "color": "#2a3f5f"
           }
          },
          "ternary": {
           "aaxis": {
            "gridcolor": "white",
            "linecolor": "white",
            "ticks": ""
           },
           "baxis": {
            "gridcolor": "white",
            "linecolor": "white",
            "ticks": ""
           },
           "bgcolor": "#E5ECF6",
           "caxis": {
            "gridcolor": "white",
            "linecolor": "white",
            "ticks": ""
           }
          },
          "title": {
           "x": 0.05
          },
          "xaxis": {
           "automargin": true,
           "gridcolor": "white",
           "linecolor": "white",
           "ticks": "",
           "title": {
            "standoff": 15
           },
           "zerolinecolor": "white",
           "zerolinewidth": 2
          },
          "yaxis": {
           "automargin": true,
           "gridcolor": "white",
           "linecolor": "white",
           "ticks": "",
           "title": {
            "standoff": 15
           },
           "zerolinecolor": "white",
           "zerolinewidth": 2
          }
         }
        },
        "title": {
         "text": "UVic Investment Portfolio: Fixed Income Investments"
        },
        "yaxis": {
         "title": {
          "text": "Canadian Dollars (CAD)"
         }
        }
       }
      }
     },
     "metadata": {},
     "output_type": "display_data"
    }
   ],
   "source": [
    "# isolate for fixed income investments\n",
    "df = portfolio[portfolio.Category == 'FIXED INCOME']\n",
    "# make plot\n",
    "plot = update(grouped_bar(df), \"UVic Investment Portfolio: Fixed Income Investments\")\n",
    "# show interactive plot\n",
    "plot.show()"
   ]
  },
  {
   "cell_type": "markdown",
   "metadata": {},
   "source": [
    "### 2. Canadian Equities Investments\n",
    "Canadian equity investments are mutual funds that own stock within Canada. These stocks are located in various sectors of Canadas Economy including finance and natural resources."
   ]
  },
  {
   "cell_type": "code",
   "execution_count": 158,
   "metadata": {},
   "outputs": [
    {
     "data": {
      "application/vnd.plotly.v1+json": {
       "config": {
        "plotlyServerURL": "https://plot.ly"
       },
       "data": [
        {
         "name": "Original Cost (CAD)",
         "type": "bar",
         "x": [
          "AGRIUM INC",
          "ALIMENTATION COUCHE-TARD INC SUB VOTING",
          "ARC RESOURCES COMMON",
          "BANK OF NOVA SCOTIA",
          "BROOKFIELD ASSET MANAGE CLASS A LTD VTG SHS",
          "BROOKFIELD INFRASTRUCTURE PARTNERS LP",
          "CAMECO CORP",
          "CANADIAN IMPERIAL BANK OF COMMERCE COMMON",
          "CANADIAN NATIONAL RAILWAY COMPANY COMMON",
          "CANADIAN TIRE CORP LTD CLASS A NON VOTING",
          "CATAMARAN CORPORATION COMMON",
          "CENOVUS ENERGY INC COMMON",
          "CGI GROUP INC CL A SUB VTG",
          "CINEPLEX INC COMMON",
          "CRESCENT POINT ENERGY CORP COMMON",
          "DOLLARAMA INC COMMON",
          "ELEMENT FINANCIAL CORP COMMON",
          "FIERA CAPITAL PL INVESTMENT FD SML CAP FUND*",
          "FRANCO NEVADA CORP COMMON",
          "GILDAN ACTIVEWEAR INC COMMON",
          "INTER PIPELINE FD CL A LP UNITS",
          "KEYERA CORP COMMON",
          "LUNDIN MINING CORP COMMON",
          "MAGNA INTERNATIONAL INC COMMON",
          "MANULIFE FINANCIAL CORPORATION COMMON",
          "MEG ENERGY CORP COMMON",
          "METHANEX CORP",
          "NEW GOLD INC COMMON",
          "OIL VENTURES NO.1 WELL NET ROYALTY CERTIFICATE",
          "ONEX CORP SUB VTG",
          "ROGERS COMMUNICATIONS CLASS B NON VOTING",
          "ROYAL BANK OF CANADA",
          "SHAWCOR LTD NEW COMMON",
          "SILVER WHEATON CORP",
          "SUNCOR ENERGY INC.",
          "TELUS CORPORATION COM",
          "TORONTO DOMINION BANK",
          "TOURMALINE OIL CORP COMMON",
          "TRILOGY ENERGY CORP COMMON",
          "VERMILION ENERGY INC COMMON",
          "WEST FRASER TIMBER CO LTD",
          "WESTSHORE TERMINALS INV CORP COMMON"
         ],
         "y": [
          "1,002,426",
          "1,945,802",
          "1,673,172",
          "3,539,087",
          "1,896,040",
          "974,457",
          "1,203,336",
          "1,954,395",
          "2,096,477",
          "899,036",
          "1,082,234",
          "1,823,441",
          "770,226",
          "859,300",
          "1,899,878",
          "1,158,787",
          "1,698,292",
          "5,701,401",
          "1,500,075",
          "2,141,891",
          "1,293,906",
          "546,046",
          "580,425",
          "1,452,352",
          "3,442,049",
          "1,105,284",
          "667,092",
          "1,451,752",
          "1",
          "987,335",
          "557,089",
          "4,264,516",
          "1,253,892",
          "1,400,103",
          "3,256,556",
          "2,153,853",
          "4,583,265",
          "1,555,934",
          "998,803",
          "1,182,320",
          "1,449,472",
          "1,107,445"
         ]
        },
        {
         "name": "Market Value (CAD)",
         "type": "bar",
         "x": [
          "AGRIUM INC",
          "ALIMENTATION COUCHE-TARD INC SUB VOTING",
          "ARC RESOURCES COMMON",
          "BANK OF NOVA SCOTIA",
          "BROOKFIELD ASSET MANAGE CLASS A LTD VTG SHS",
          "BROOKFIELD INFRASTRUCTURE PARTNERS LP",
          "CAMECO CORP",
          "CANADIAN IMPERIAL BANK OF COMMERCE COMMON",
          "CANADIAN NATIONAL RAILWAY COMPANY COMMON",
          "CANADIAN TIRE CORP LTD CLASS A NON VOTING",
          "CATAMARAN CORPORATION COMMON",
          "CENOVUS ENERGY INC COMMON",
          "CGI GROUP INC CL A SUB VTG",
          "CINEPLEX INC COMMON",
          "CRESCENT POINT ENERGY CORP COMMON",
          "DOLLARAMA INC COMMON",
          "ELEMENT FINANCIAL CORP COMMON",
          "FIERA CAPITAL PL INVESTMENT FD SML CAP FUND*",
          "FRANCO NEVADA CORP COMMON",
          "GILDAN ACTIVEWEAR INC COMMON",
          "INTER PIPELINE FD CL A LP UNITS",
          "KEYERA CORP COMMON",
          "LUNDIN MINING CORP COMMON",
          "MAGNA INTERNATIONAL INC COMMON",
          "MANULIFE FINANCIAL CORPORATION COMMON",
          "MEG ENERGY CORP COMMON",
          "METHANEX CORP",
          "NEW GOLD INC COMMON",
          "OIL VENTURES NO.1 WELL NET ROYALTY CERTIFICATE",
          "ONEX CORP SUB VTG",
          "ROGERS COMMUNICATIONS CLASS B NON VOTING",
          "ROYAL BANK OF CANADA",
          "SHAWCOR LTD NEW COMMON",
          "SILVER WHEATON CORP",
          "SUNCOR ENERGY INC.",
          "TELUS CORPORATION COM",
          "TORONTO DOMINION BANK",
          "TOURMALINE OIL CORP COMMON",
          "TRILOGY ENERGY CORP COMMON",
          "VERMILION ENERGY INC COMMON",
          "WEST FRASER TIMBER CO LTD",
          "WESTSHORE TERMINALS INV CORP COMMON"
         ],
         "y": [
          "1,017,294",
          "2,697,768",
          "1,988,811",
          "5,747,525",
          "3,407,285",
          "1,042,966",
          "1,152,896",
          "2,895,695",
          "5,299,101",
          "949,952",
          "1,092,670",
          "2,235,438",
          "732,327",
          "1,057,514",
          "1,913,195",
          "1,724,489",
          "2,104,687",
          "13,285,824",
          "1,658,722",
          "2,033,749",
          "1,558,775",
          "849,210",
          "597,098",
          "2,588,875",
          "4,309,710",
          "1,281,485",
          "630,152",
          "881,534",
          "1",
          "1,415,914",
          "837,773",
          "6,899,986",
          "1,344,414",
          "1,306,869",
          "3,858,568",
          "2,239,531",
          "7,199,291",
          "2,559,015",
          "945,787",
          "1,889,346",
          "1,843,654",
          "1,085,846"
         ]
        },
        {
         "name": "Unrealized Gain (CAD)",
         "type": "bar",
         "x": [
          "AGRIUM INC",
          "ALIMENTATION COUCHE-TARD INC SUB VOTING",
          "ARC RESOURCES COMMON",
          "BANK OF NOVA SCOTIA",
          "BROOKFIELD ASSET MANAGE CLASS A LTD VTG SHS",
          "BROOKFIELD INFRASTRUCTURE PARTNERS LP",
          "CAMECO CORP",
          "CANADIAN IMPERIAL BANK OF COMMERCE COMMON",
          "CANADIAN NATIONAL RAILWAY COMPANY COMMON",
          "CANADIAN TIRE CORP LTD CLASS A NON VOTING",
          "CATAMARAN CORPORATION COMMON",
          "CENOVUS ENERGY INC COMMON",
          "CGI GROUP INC CL A SUB VTG",
          "CINEPLEX INC COMMON",
          "CRESCENT POINT ENERGY CORP COMMON",
          "DOLLARAMA INC COMMON",
          "ELEMENT FINANCIAL CORP COMMON",
          "FIERA CAPITAL PL INVESTMENT FD SML CAP FUND*",
          "FRANCO NEVADA CORP COMMON",
          "GILDAN ACTIVEWEAR INC COMMON",
          "INTER PIPELINE FD CL A LP UNITS",
          "KEYERA CORP COMMON",
          "LUNDIN MINING CORP COMMON",
          "MAGNA INTERNATIONAL INC COMMON",
          "MANULIFE FINANCIAL CORPORATION COMMON",
          "MEG ENERGY CORP COMMON",
          "METHANEX CORP",
          "NEW GOLD INC COMMON",
          "OIL VENTURES NO.1 WELL NET ROYALTY CERTIFICATE",
          "ONEX CORP SUB VTG",
          "ROGERS COMMUNICATIONS CLASS B NON VOTING",
          "ROYAL BANK OF CANADA",
          "SHAWCOR LTD NEW COMMON",
          "SILVER WHEATON CORP",
          "SUNCOR ENERGY INC.",
          "TELUS CORPORATION COM",
          "TORONTO DOMINION BANK",
          "TOURMALINE OIL CORP COMMON",
          "TRILOGY ENERGY CORP COMMON",
          "VERMILION ENERGY INC COMMON",
          "WEST FRASER TIMBER CO LTD",
          "WESTSHORE TERMINALS INV CORP COMMON"
         ],
         "y": [
          "14,868",
          "751,966",
          "315,639",
          "2,208,438",
          "1,511,245",
          "68,509",
          "-50,440",
          "941,300",
          "3,202,624",
          "50,916",
          "10,437",
          "411,997",
          "-37,899",
          "198,213",
          "13,317",
          "565,702",
          "406,395",
          "7,584,423",
          "158,647",
          "-108,142",
          "264,869",
          "303,164",
          "16,673",
          "1,136,522",
          "867,661",
          "176,201",
          "-36,940",
          "-570,218",
          "-",
          "428,578",
          "280,684",
          "2,635,470",
          "90,522",
          "-93,234",
          "602,012",
          "85,678",
          "2,616,026",
          "1,003,082",
          "-53,017",
          "707,026",
          "394,182",
          "-21,600"
         ]
        }
       ],
       "layout": {
        "barmode": "group",
        "font": {
         "color": "#1f1f1f",
         "family": "Courier New, monospace",
         "size": 10
        },
        "template": {
         "data": {
          "bar": [
           {
            "error_x": {
             "color": "#2a3f5f"
            },
            "error_y": {
             "color": "#2a3f5f"
            },
            "marker": {
             "line": {
              "color": "#E5ECF6",
              "width": 0.5
             }
            },
            "type": "bar"
           }
          ],
          "barpolar": [
           {
            "marker": {
             "line": {
              "color": "#E5ECF6",
              "width": 0.5
             }
            },
            "type": "barpolar"
           }
          ],
          "carpet": [
           {
            "aaxis": {
             "endlinecolor": "#2a3f5f",
             "gridcolor": "white",
             "linecolor": "white",
             "minorgridcolor": "white",
             "startlinecolor": "#2a3f5f"
            },
            "baxis": {
             "endlinecolor": "#2a3f5f",
             "gridcolor": "white",
             "linecolor": "white",
             "minorgridcolor": "white",
             "startlinecolor": "#2a3f5f"
            },
            "type": "carpet"
           }
          ],
          "choropleth": [
           {
            "colorbar": {
             "outlinewidth": 0,
             "ticks": ""
            },
            "type": "choropleth"
           }
          ],
          "contour": [
           {
            "colorbar": {
             "outlinewidth": 0,
             "ticks": ""
            },
            "colorscale": [
             [
              0,
              "#0d0887"
             ],
             [
              0.1111111111111111,
              "#46039f"
             ],
             [
              0.2222222222222222,
              "#7201a8"
             ],
             [
              0.3333333333333333,
              "#9c179e"
             ],
             [
              0.4444444444444444,
              "#bd3786"
             ],
             [
              0.5555555555555556,
              "#d8576b"
             ],
             [
              0.6666666666666666,
              "#ed7953"
             ],
             [
              0.7777777777777778,
              "#fb9f3a"
             ],
             [
              0.8888888888888888,
              "#fdca26"
             ],
             [
              1,
              "#f0f921"
             ]
            ],
            "type": "contour"
           }
          ],
          "contourcarpet": [
           {
            "colorbar": {
             "outlinewidth": 0,
             "ticks": ""
            },
            "type": "contourcarpet"
           }
          ],
          "heatmap": [
           {
            "colorbar": {
             "outlinewidth": 0,
             "ticks": ""
            },
            "colorscale": [
             [
              0,
              "#0d0887"
             ],
             [
              0.1111111111111111,
              "#46039f"
             ],
             [
              0.2222222222222222,
              "#7201a8"
             ],
             [
              0.3333333333333333,
              "#9c179e"
             ],
             [
              0.4444444444444444,
              "#bd3786"
             ],
             [
              0.5555555555555556,
              "#d8576b"
             ],
             [
              0.6666666666666666,
              "#ed7953"
             ],
             [
              0.7777777777777778,
              "#fb9f3a"
             ],
             [
              0.8888888888888888,
              "#fdca26"
             ],
             [
              1,
              "#f0f921"
             ]
            ],
            "type": "heatmap"
           }
          ],
          "heatmapgl": [
           {
            "colorbar": {
             "outlinewidth": 0,
             "ticks": ""
            },
            "colorscale": [
             [
              0,
              "#0d0887"
             ],
             [
              0.1111111111111111,
              "#46039f"
             ],
             [
              0.2222222222222222,
              "#7201a8"
             ],
             [
              0.3333333333333333,
              "#9c179e"
             ],
             [
              0.4444444444444444,
              "#bd3786"
             ],
             [
              0.5555555555555556,
              "#d8576b"
             ],
             [
              0.6666666666666666,
              "#ed7953"
             ],
             [
              0.7777777777777778,
              "#fb9f3a"
             ],
             [
              0.8888888888888888,
              "#fdca26"
             ],
             [
              1,
              "#f0f921"
             ]
            ],
            "type": "heatmapgl"
           }
          ],
          "histogram": [
           {
            "marker": {
             "colorbar": {
              "outlinewidth": 0,
              "ticks": ""
             }
            },
            "type": "histogram"
           }
          ],
          "histogram2d": [
           {
            "colorbar": {
             "outlinewidth": 0,
             "ticks": ""
            },
            "colorscale": [
             [
              0,
              "#0d0887"
             ],
             [
              0.1111111111111111,
              "#46039f"
             ],
             [
              0.2222222222222222,
              "#7201a8"
             ],
             [
              0.3333333333333333,
              "#9c179e"
             ],
             [
              0.4444444444444444,
              "#bd3786"
             ],
             [
              0.5555555555555556,
              "#d8576b"
             ],
             [
              0.6666666666666666,
              "#ed7953"
             ],
             [
              0.7777777777777778,
              "#fb9f3a"
             ],
             [
              0.8888888888888888,
              "#fdca26"
             ],
             [
              1,
              "#f0f921"
             ]
            ],
            "type": "histogram2d"
           }
          ],
          "histogram2dcontour": [
           {
            "colorbar": {
             "outlinewidth": 0,
             "ticks": ""
            },
            "colorscale": [
             [
              0,
              "#0d0887"
             ],
             [
              0.1111111111111111,
              "#46039f"
             ],
             [
              0.2222222222222222,
              "#7201a8"
             ],
             [
              0.3333333333333333,
              "#9c179e"
             ],
             [
              0.4444444444444444,
              "#bd3786"
             ],
             [
              0.5555555555555556,
              "#d8576b"
             ],
             [
              0.6666666666666666,
              "#ed7953"
             ],
             [
              0.7777777777777778,
              "#fb9f3a"
             ],
             [
              0.8888888888888888,
              "#fdca26"
             ],
             [
              1,
              "#f0f921"
             ]
            ],
            "type": "histogram2dcontour"
           }
          ],
          "mesh3d": [
           {
            "colorbar": {
             "outlinewidth": 0,
             "ticks": ""
            },
            "type": "mesh3d"
           }
          ],
          "parcoords": [
           {
            "line": {
             "colorbar": {
              "outlinewidth": 0,
              "ticks": ""
             }
            },
            "type": "parcoords"
           }
          ],
          "pie": [
           {
            "automargin": true,
            "type": "pie"
           }
          ],
          "scatter": [
           {
            "marker": {
             "colorbar": {
              "outlinewidth": 0,
              "ticks": ""
             }
            },
            "type": "scatter"
           }
          ],
          "scatter3d": [
           {
            "line": {
             "colorbar": {
              "outlinewidth": 0,
              "ticks": ""
             }
            },
            "marker": {
             "colorbar": {
              "outlinewidth": 0,
              "ticks": ""
             }
            },
            "type": "scatter3d"
           }
          ],
          "scattercarpet": [
           {
            "marker": {
             "colorbar": {
              "outlinewidth": 0,
              "ticks": ""
             }
            },
            "type": "scattercarpet"
           }
          ],
          "scattergeo": [
           {
            "marker": {
             "colorbar": {
              "outlinewidth": 0,
              "ticks": ""
             }
            },
            "type": "scattergeo"
           }
          ],
          "scattergl": [
           {
            "marker": {
             "colorbar": {
              "outlinewidth": 0,
              "ticks": ""
             }
            },
            "type": "scattergl"
           }
          ],
          "scattermapbox": [
           {
            "marker": {
             "colorbar": {
              "outlinewidth": 0,
              "ticks": ""
             }
            },
            "type": "scattermapbox"
           }
          ],
          "scatterpolar": [
           {
            "marker": {
             "colorbar": {
              "outlinewidth": 0,
              "ticks": ""
             }
            },
            "type": "scatterpolar"
           }
          ],
          "scatterpolargl": [
           {
            "marker": {
             "colorbar": {
              "outlinewidth": 0,
              "ticks": ""
             }
            },
            "type": "scatterpolargl"
           }
          ],
          "scatterternary": [
           {
            "marker": {
             "colorbar": {
              "outlinewidth": 0,
              "ticks": ""
             }
            },
            "type": "scatterternary"
           }
          ],
          "surface": [
           {
            "colorbar": {
             "outlinewidth": 0,
             "ticks": ""
            },
            "colorscale": [
             [
              0,
              "#0d0887"
             ],
             [
              0.1111111111111111,
              "#46039f"
             ],
             [
              0.2222222222222222,
              "#7201a8"
             ],
             [
              0.3333333333333333,
              "#9c179e"
             ],
             [
              0.4444444444444444,
              "#bd3786"
             ],
             [
              0.5555555555555556,
              "#d8576b"
             ],
             [
              0.6666666666666666,
              "#ed7953"
             ],
             [
              0.7777777777777778,
              "#fb9f3a"
             ],
             [
              0.8888888888888888,
              "#fdca26"
             ],
             [
              1,
              "#f0f921"
             ]
            ],
            "type": "surface"
           }
          ],
          "table": [
           {
            "cells": {
             "fill": {
              "color": "#EBF0F8"
             },
             "line": {
              "color": "white"
             }
            },
            "header": {
             "fill": {
              "color": "#C8D4E3"
             },
             "line": {
              "color": "white"
             }
            },
            "type": "table"
           }
          ]
         },
         "layout": {
          "annotationdefaults": {
           "arrowcolor": "#2a3f5f",
           "arrowhead": 0,
           "arrowwidth": 1
          },
          "coloraxis": {
           "colorbar": {
            "outlinewidth": 0,
            "ticks": ""
           }
          },
          "colorscale": {
           "diverging": [
            [
             0,
             "#8e0152"
            ],
            [
             0.1,
             "#c51b7d"
            ],
            [
             0.2,
             "#de77ae"
            ],
            [
             0.3,
             "#f1b6da"
            ],
            [
             0.4,
             "#fde0ef"
            ],
            [
             0.5,
             "#f7f7f7"
            ],
            [
             0.6,
             "#e6f5d0"
            ],
            [
             0.7,
             "#b8e186"
            ],
            [
             0.8,
             "#7fbc41"
            ],
            [
             0.9,
             "#4d9221"
            ],
            [
             1,
             "#276419"
            ]
           ],
           "sequential": [
            [
             0,
             "#0d0887"
            ],
            [
             0.1111111111111111,
             "#46039f"
            ],
            [
             0.2222222222222222,
             "#7201a8"
            ],
            [
             0.3333333333333333,
             "#9c179e"
            ],
            [
             0.4444444444444444,
             "#bd3786"
            ],
            [
             0.5555555555555556,
             "#d8576b"
            ],
            [
             0.6666666666666666,
             "#ed7953"
            ],
            [
             0.7777777777777778,
             "#fb9f3a"
            ],
            [
             0.8888888888888888,
             "#fdca26"
            ],
            [
             1,
             "#f0f921"
            ]
           ],
           "sequentialminus": [
            [
             0,
             "#0d0887"
            ],
            [
             0.1111111111111111,
             "#46039f"
            ],
            [
             0.2222222222222222,
             "#7201a8"
            ],
            [
             0.3333333333333333,
             "#9c179e"
            ],
            [
             0.4444444444444444,
             "#bd3786"
            ],
            [
             0.5555555555555556,
             "#d8576b"
            ],
            [
             0.6666666666666666,
             "#ed7953"
            ],
            [
             0.7777777777777778,
             "#fb9f3a"
            ],
            [
             0.8888888888888888,
             "#fdca26"
            ],
            [
             1,
             "#f0f921"
            ]
           ]
          },
          "colorway": [
           "#636efa",
           "#EF553B",
           "#00cc96",
           "#ab63fa",
           "#FFA15A",
           "#19d3f3",
           "#FF6692",
           "#B6E880",
           "#FF97FF",
           "#FECB52"
          ],
          "font": {
           "color": "#2a3f5f"
          },
          "geo": {
           "bgcolor": "white",
           "lakecolor": "white",
           "landcolor": "#E5ECF6",
           "showlakes": true,
           "showland": true,
           "subunitcolor": "white"
          },
          "hoverlabel": {
           "align": "left"
          },
          "hovermode": "closest",
          "mapbox": {
           "style": "light"
          },
          "paper_bgcolor": "white",
          "plot_bgcolor": "#E5ECF6",
          "polar": {
           "angularaxis": {
            "gridcolor": "white",
            "linecolor": "white",
            "ticks": ""
           },
           "bgcolor": "#E5ECF6",
           "radialaxis": {
            "gridcolor": "white",
            "linecolor": "white",
            "ticks": ""
           }
          },
          "scene": {
           "xaxis": {
            "backgroundcolor": "#E5ECF6",
            "gridcolor": "white",
            "gridwidth": 2,
            "linecolor": "white",
            "showbackground": true,
            "ticks": "",
            "zerolinecolor": "white"
           },
           "yaxis": {
            "backgroundcolor": "#E5ECF6",
            "gridcolor": "white",
            "gridwidth": 2,
            "linecolor": "white",
            "showbackground": true,
            "ticks": "",
            "zerolinecolor": "white"
           },
           "zaxis": {
            "backgroundcolor": "#E5ECF6",
            "gridcolor": "white",
            "gridwidth": 2,
            "linecolor": "white",
            "showbackground": true,
            "ticks": "",
            "zerolinecolor": "white"
           }
          },
          "shapedefaults": {
           "line": {
            "color": "#2a3f5f"
           }
          },
          "ternary": {
           "aaxis": {
            "gridcolor": "white",
            "linecolor": "white",
            "ticks": ""
           },
           "baxis": {
            "gridcolor": "white",
            "linecolor": "white",
            "ticks": ""
           },
           "bgcolor": "#E5ECF6",
           "caxis": {
            "gridcolor": "white",
            "linecolor": "white",
            "ticks": ""
           }
          },
          "title": {
           "x": 0.05
          },
          "xaxis": {
           "automargin": true,
           "gridcolor": "white",
           "linecolor": "white",
           "ticks": "",
           "title": {
            "standoff": 15
           },
           "zerolinecolor": "white",
           "zerolinewidth": 2
          },
          "yaxis": {
           "automargin": true,
           "gridcolor": "white",
           "linecolor": "white",
           "ticks": "",
           "title": {
            "standoff": 15
           },
           "zerolinecolor": "white",
           "zerolinewidth": 2
          }
         }
        },
        "title": {
         "text": "UVic Investment Portfolio: Canadian Equities Investments"
        },
        "yaxis": {
         "title": {
          "text": "Canadian Dollars (CAD)"
         }
        }
       }
      }
     },
     "metadata": {},
     "output_type": "display_data"
    }
   ],
   "source": [
    "# isolate for canadian equities investments\n",
    "df = portfolio[portfolio.Category == 'CANADIAN EQUITIES']\n",
    "# make plot\n",
    "plot = update(grouped_bar(df), \"UVic Investment Portfolio: Canadian Equities Investments\")\n",
    "# show interactive plot\n",
    "plot.show()"
   ]
  },
  {
   "cell_type": "markdown",
   "metadata": {},
   "source": [
    "### 3. Global Equities Investments\n",
    "Global equity investments are mutual funds that own stock outside of Canada."
   ]
  },
  {
   "cell_type": "code",
   "execution_count": 159,
   "metadata": {},
   "outputs": [
    {
     "data": {
      "application/vnd.plotly.v1+json": {
       "config": {
        "plotlyServerURL": "https://plot.ly"
       },
       "data": [
        {
         "name": "Original Cost (CAD)",
         "type": "bar",
         "x": [
          "ADOBE SYSTEMS INC COM USD0.0001",
          "AIA GROUP LTD COM",
          "AMPHENOL CORP CL'A'COM USD0.001",
          "AUTO DATA PROCESS",
          "BARD (CR) INC",
          "BG GROUP",
          "CHINA MOBILE HKD0.10",
          "CHINA SHENHUA ENER 'H'CNY1",
          "CISCO SYSTEMS COM",
          "CLP HOLDINGS HKD5",
          "CNOOC LTD HKD0.02",
          "COLGATE-PALMOLIVE COM USD1",
          "CSL NPV",
          "DBS GROUP HOLDINGS",
          "DENSO CORP",
          "EOG RESOURCES INC",
          "ESSILOR INTL. EUR0.35",
          "FANUC LTD",
          "FASTENAL COM USD0.01",
          "GOOGLE INC COM USD0.001 CLASS 'A'",
          "HENNES & MAURITZ",
          "HONDA MOTOR CO",
          "HONG KONG & CHINA GAS HKD0.25",
          "HSBC HLDGS ORD USD0.50(UK REG)",
          "INDITEX EUR0.15",
          "INTUITIVE SURGICAL INC COM",
          "JOHNSON & JOHNSON",
          "KEYENCE CORP",
          "KOMATSU Y50",
          "L'OREAL EUR0.20",
          "MASTERCARD INC COM USD0.0001 CLASS A",
          "MICROSOFT CORP COM USD0.0000125",
          "NESTLE",
          "NIKE INC CLASS'B'COM NPV",
          "NOVO-NORDISK",
          "ORACLE CORP COM USD0.01",
          "PRAXAIR INC COM USD0.01",
          "PRECISION CASTPART COM NPV",
          "QUALCOMM INC COM USD0.0001",
          "RECKITT BENCHKISER",
          "SCHLUMBERGER",
          "SGS SA CHF1(REGD)",
          "SHIN-ETSU CHEMICAL",
          "SIGMA ALDRICH CORP COMMON",
          "STANDARD CHARTERED ORD USD0.50",
          "SUNCOR ENERGY INC.",
          "SWATCH GROUP CHF2.25",
          "SYNGENTA CHF0.10(REGD)",
          "TESCO ORD GBP0.05",
          "TJX COS INC COM USD1",
          "W. W. GRAINGER INC",
          "WAL-MART STORES COM",
          "WOODSIDE PETROLEUM",
          "HEXAVEST WORLD EQUITY FUNDS*"
         ],
         "y": [
          "533,479",
          "1,106,738",
          "494,763",
          "694,136",
          "776,136",
          "1,066,890",
          "569,886",
          "850,545",
          "1,272,285",
          "814,115",
          "1,010,970",
          "822,485",
          "654,546",
          "1,040,375",
          "568,034",
          "671,184",
          "404,725",
          "594,026",
          "427,510",
          "690,512",
          "669,543",
          "939,349",
          "412,051",
          "1,154,503",
          "389,284",
          "578,230",
          "781,073",
          "673,102",
          "871,142",
          "590,000",
          "401,964",
          "871,571",
          "572,325",
          "516,735",
          "378,508",
          "681,844",
          "1,008,078",
          "568,449",
          "916,277",
          "719,540",
          "992,294",
          "629,711",
          "1,093,245",
          "543,379",
          "1,219,457",
          "931,586",
          "588,512",
          "970,211",
          "440,224",
          "675,743",
          "645,734",
          "806,741",
          "861,547",
          "54,595,877"
         ]
        },
        {
         "name": "Market Value (CAD)",
         "type": "bar",
         "x": [
          "ADOBE SYSTEMS INC COM USD0.0001",
          "AIA GROUP LTD COM",
          "AMPHENOL CORP CL'A'COM USD0.001",
          "AUTO DATA PROCESS",
          "BARD (CR) INC",
          "BG GROUP",
          "CHINA MOBILE HKD0.10",
          "CHINA SHENHUA ENER 'H'CNY1",
          "CISCO SYSTEMS COM",
          "CLP HOLDINGS HKD5",
          "CNOOC LTD HKD0.02",
          "COLGATE-PALMOLIVE COM USD1",
          "CSL NPV",
          "DBS GROUP HOLDINGS",
          "DENSO CORP",
          "EOG RESOURCES INC",
          "ESSILOR INTL. EUR0.35",
          "FANUC LTD",
          "FASTENAL COM USD0.01",
          "GOOGLE INC COM USD0.001 CLASS 'A'",
          "HENNES & MAURITZ",
          "HONDA MOTOR CO",
          "HONG KONG & CHINA GAS HKD0.25",
          "HSBC HLDGS ORD USD0.50(UK REG)",
          "INDITEX EUR0.15",
          "INTUITIVE SURGICAL INC COM",
          "JOHNSON & JOHNSON",
          "KEYENCE CORP",
          "KOMATSU Y50",
          "L'OREAL EUR0.20",
          "MASTERCARD INC COM USD0.0001 CLASS A",
          "MICROSOFT CORP COM USD0.0000125",
          "NESTLE",
          "NIKE INC CLASS'B'COM NPV",
          "NOVO-NORDISK",
          "ORACLE CORP COM USD0.01",
          "PRAXAIR INC COM USD0.01",
          "PRECISION CASTPART COM NPV",
          "QUALCOMM INC COM USD0.0001",
          "RECKITT BENCHKISER",
          "SCHLUMBERGER",
          "SGS SA CHF1(REGD)",
          "SHIN-ETSU CHEMICAL",
          "SIGMA ALDRICH CORP COMMON",
          "STANDARD CHARTERED ORD USD0.50",
          "SUNCOR ENERGY INC.",
          "SWATCH GROUP CHF2.25",
          "SYNGENTA CHF0.10(REGD)",
          "TESCO ORD GBP0.05",
          "TJX COS INC COM USD1",
          "W. W. GRAINGER INC",
          "WAL-MART STORES COM",
          "WOODSIDE PETROLEUM",
          "HEXAVEST WORLD EQUITY FUNDS*"
         ],
         "y": [
          "1,197,238",
          "1,281,830",
          "1,234,125",
          "1,355,872",
          "1,420,984",
          "1,233,787",
          "580,895",
          "656,578",
          "1,321,134",
          "940,601",
          "1,214,454",
          "1,404,784",
          "1,376,216",
          "1,281,633",
          "933,288",
          "1,710,513",
          "835,165",
          "1,209,639",
          "1,202,558",
          "1,549,963",
          "1,228,100",
          "1,016,480",
          "675,346",
          "1,092,150",
          "1,242,478",
          "725,141",
          "1,322,729",
          "1,330,345",
          "831,740",
          "1,183,606",
          "1,228,496",
          "1,483,948",
          "1,280,591",
          "1,369,574",
          "1,483,451",
          "1,368,166",
          "1,344,379",
          "1,394,907",
          "1,392,655",
          "1,366,870",
          "1,581,935",
          "1,238,826",
          "1,182,006",
          "721,471",
          "1,070,016",
          "965,250",
          "692,232",
          "1,169,597",
          "377,240",
          "1,466,026",
          "669,290",
          "1,299,126",
          "898,132",
          "65,204,606"
         ]
        },
        {
         "name": "Unrealized Gain (CAD)",
         "type": "bar",
         "x": [
          "ADOBE SYSTEMS INC COM USD0.0001",
          "AIA GROUP LTD COM",
          "AMPHENOL CORP CL'A'COM USD0.001",
          "AUTO DATA PROCESS",
          "BARD (CR) INC",
          "BG GROUP",
          "CHINA MOBILE HKD0.10",
          "CHINA SHENHUA ENER 'H'CNY1",
          "CISCO SYSTEMS COM",
          "CLP HOLDINGS HKD5",
          "CNOOC LTD HKD0.02",
          "COLGATE-PALMOLIVE COM USD1",
          "CSL NPV",
          "DBS GROUP HOLDINGS",
          "DENSO CORP",
          "EOG RESOURCES INC",
          "ESSILOR INTL. EUR0.35",
          "FANUC LTD",
          "FASTENAL COM USD0.01",
          "GOOGLE INC COM USD0.001 CLASS 'A'",
          "HENNES & MAURITZ",
          "HONDA MOTOR CO",
          "HONG KONG & CHINA GAS HKD0.25",
          "HSBC HLDGS ORD USD0.50(UK REG)",
          "INDITEX EUR0.15",
          "INTUITIVE SURGICAL INC COM",
          "JOHNSON & JOHNSON",
          "KEYENCE CORP",
          "KOMATSU Y50",
          "L'OREAL EUR0.20",
          "MASTERCARD INC COM USD0.0001 CLASS A",
          "MICROSOFT CORP COM USD0.0000125",
          "NESTLE",
          "NIKE INC CLASS'B'COM NPV",
          "NOVO-NORDISK",
          "ORACLE CORP COM USD0.01",
          "PRAXAIR INC COM USD0.01",
          "PRECISION CASTPART COM NPV",
          "QUALCOMM INC COM USD0.0001",
          "RECKITT BENCHKISER",
          "SCHLUMBERGER",
          "SGS SA CHF1(REGD)",
          "SHIN-ETSU CHEMICAL",
          "SIGMA ALDRICH CORP COMMON",
          "STANDARD CHARTERED ORD USD0.50",
          "SUNCOR ENERGY INC.",
          "SWATCH GROUP CHF2.25",
          "SYNGENTA CHF0.10(REGD)",
          "TESCO ORD GBP0.05",
          "TJX COS INC COM USD1",
          "W. W. GRAINGER INC",
          "WAL-MART STORES COM",
          "WOODSIDE PETROLEUM",
          "HEXAVEST WORLD EQUITY FUNDS*"
         ],
         "y": [
          "663,759",
          "175,093",
          "739,362",
          "661,735",
          "644,848",
          "166,897",
          "11,009",
          "-193,967",
          "48,849",
          "126,486",
          "203,484",
          "582,300",
          "721,670",
          "241,258",
          "365,254",
          "1,039,329",
          "430,440",
          "615,612",
          "775,048",
          "859,451",
          "558,557",
          "77,130",
          "263,295",
          "-62,353",
          "853,195",
          "146,911",
          "541,656",
          "657,243",
          "-39,402",
          "593,606",
          "826,532",
          "612,376",
          "708,266",
          "852,839",
          "1,104,944",
          "686,323",
          "336,300",
          "826,458",
          "476,378",
          "647,331",
          "589,641",
          "609,115",
          "88,761",
          "178,091",
          "-149,441",
          "33,664",
          "103,720",
          "199,386",
          "-62,984",
          "790,283",
          "23,556",
          "492,385",
          "36,585",
          "10,608,729"
         ]
        }
       ],
       "layout": {
        "barmode": "group",
        "font": {
         "color": "#1f1f1f",
         "family": "Courier New, monospace",
         "size": 10
        },
        "template": {
         "data": {
          "bar": [
           {
            "error_x": {
             "color": "#2a3f5f"
            },
            "error_y": {
             "color": "#2a3f5f"
            },
            "marker": {
             "line": {
              "color": "#E5ECF6",
              "width": 0.5
             }
            },
            "type": "bar"
           }
          ],
          "barpolar": [
           {
            "marker": {
             "line": {
              "color": "#E5ECF6",
              "width": 0.5
             }
            },
            "type": "barpolar"
           }
          ],
          "carpet": [
           {
            "aaxis": {
             "endlinecolor": "#2a3f5f",
             "gridcolor": "white",
             "linecolor": "white",
             "minorgridcolor": "white",
             "startlinecolor": "#2a3f5f"
            },
            "baxis": {
             "endlinecolor": "#2a3f5f",
             "gridcolor": "white",
             "linecolor": "white",
             "minorgridcolor": "white",
             "startlinecolor": "#2a3f5f"
            },
            "type": "carpet"
           }
          ],
          "choropleth": [
           {
            "colorbar": {
             "outlinewidth": 0,
             "ticks": ""
            },
            "type": "choropleth"
           }
          ],
          "contour": [
           {
            "colorbar": {
             "outlinewidth": 0,
             "ticks": ""
            },
            "colorscale": [
             [
              0,
              "#0d0887"
             ],
             [
              0.1111111111111111,
              "#46039f"
             ],
             [
              0.2222222222222222,
              "#7201a8"
             ],
             [
              0.3333333333333333,
              "#9c179e"
             ],
             [
              0.4444444444444444,
              "#bd3786"
             ],
             [
              0.5555555555555556,
              "#d8576b"
             ],
             [
              0.6666666666666666,
              "#ed7953"
             ],
             [
              0.7777777777777778,
              "#fb9f3a"
             ],
             [
              0.8888888888888888,
              "#fdca26"
             ],
             [
              1,
              "#f0f921"
             ]
            ],
            "type": "contour"
           }
          ],
          "contourcarpet": [
           {
            "colorbar": {
             "outlinewidth": 0,
             "ticks": ""
            },
            "type": "contourcarpet"
           }
          ],
          "heatmap": [
           {
            "colorbar": {
             "outlinewidth": 0,
             "ticks": ""
            },
            "colorscale": [
             [
              0,
              "#0d0887"
             ],
             [
              0.1111111111111111,
              "#46039f"
             ],
             [
              0.2222222222222222,
              "#7201a8"
             ],
             [
              0.3333333333333333,
              "#9c179e"
             ],
             [
              0.4444444444444444,
              "#bd3786"
             ],
             [
              0.5555555555555556,
              "#d8576b"
             ],
             [
              0.6666666666666666,
              "#ed7953"
             ],
             [
              0.7777777777777778,
              "#fb9f3a"
             ],
             [
              0.8888888888888888,
              "#fdca26"
             ],
             [
              1,
              "#f0f921"
             ]
            ],
            "type": "heatmap"
           }
          ],
          "heatmapgl": [
           {
            "colorbar": {
             "outlinewidth": 0,
             "ticks": ""
            },
            "colorscale": [
             [
              0,
              "#0d0887"
             ],
             [
              0.1111111111111111,
              "#46039f"
             ],
             [
              0.2222222222222222,
              "#7201a8"
             ],
             [
              0.3333333333333333,
              "#9c179e"
             ],
             [
              0.4444444444444444,
              "#bd3786"
             ],
             [
              0.5555555555555556,
              "#d8576b"
             ],
             [
              0.6666666666666666,
              "#ed7953"
             ],
             [
              0.7777777777777778,
              "#fb9f3a"
             ],
             [
              0.8888888888888888,
              "#fdca26"
             ],
             [
              1,
              "#f0f921"
             ]
            ],
            "type": "heatmapgl"
           }
          ],
          "histogram": [
           {
            "marker": {
             "colorbar": {
              "outlinewidth": 0,
              "ticks": ""
             }
            },
            "type": "histogram"
           }
          ],
          "histogram2d": [
           {
            "colorbar": {
             "outlinewidth": 0,
             "ticks": ""
            },
            "colorscale": [
             [
              0,
              "#0d0887"
             ],
             [
              0.1111111111111111,
              "#46039f"
             ],
             [
              0.2222222222222222,
              "#7201a8"
             ],
             [
              0.3333333333333333,
              "#9c179e"
             ],
             [
              0.4444444444444444,
              "#bd3786"
             ],
             [
              0.5555555555555556,
              "#d8576b"
             ],
             [
              0.6666666666666666,
              "#ed7953"
             ],
             [
              0.7777777777777778,
              "#fb9f3a"
             ],
             [
              0.8888888888888888,
              "#fdca26"
             ],
             [
              1,
              "#f0f921"
             ]
            ],
            "type": "histogram2d"
           }
          ],
          "histogram2dcontour": [
           {
            "colorbar": {
             "outlinewidth": 0,
             "ticks": ""
            },
            "colorscale": [
             [
              0,
              "#0d0887"
             ],
             [
              0.1111111111111111,
              "#46039f"
             ],
             [
              0.2222222222222222,
              "#7201a8"
             ],
             [
              0.3333333333333333,
              "#9c179e"
             ],
             [
              0.4444444444444444,
              "#bd3786"
             ],
             [
              0.5555555555555556,
              "#d8576b"
             ],
             [
              0.6666666666666666,
              "#ed7953"
             ],
             [
              0.7777777777777778,
              "#fb9f3a"
             ],
             [
              0.8888888888888888,
              "#fdca26"
             ],
             [
              1,
              "#f0f921"
             ]
            ],
            "type": "histogram2dcontour"
           }
          ],
          "mesh3d": [
           {
            "colorbar": {
             "outlinewidth": 0,
             "ticks": ""
            },
            "type": "mesh3d"
           }
          ],
          "parcoords": [
           {
            "line": {
             "colorbar": {
              "outlinewidth": 0,
              "ticks": ""
             }
            },
            "type": "parcoords"
           }
          ],
          "pie": [
           {
            "automargin": true,
            "type": "pie"
           }
          ],
          "scatter": [
           {
            "marker": {
             "colorbar": {
              "outlinewidth": 0,
              "ticks": ""
             }
            },
            "type": "scatter"
           }
          ],
          "scatter3d": [
           {
            "line": {
             "colorbar": {
              "outlinewidth": 0,
              "ticks": ""
             }
            },
            "marker": {
             "colorbar": {
              "outlinewidth": 0,
              "ticks": ""
             }
            },
            "type": "scatter3d"
           }
          ],
          "scattercarpet": [
           {
            "marker": {
             "colorbar": {
              "outlinewidth": 0,
              "ticks": ""
             }
            },
            "type": "scattercarpet"
           }
          ],
          "scattergeo": [
           {
            "marker": {
             "colorbar": {
              "outlinewidth": 0,
              "ticks": ""
             }
            },
            "type": "scattergeo"
           }
          ],
          "scattergl": [
           {
            "marker": {
             "colorbar": {
              "outlinewidth": 0,
              "ticks": ""
             }
            },
            "type": "scattergl"
           }
          ],
          "scattermapbox": [
           {
            "marker": {
             "colorbar": {
              "outlinewidth": 0,
              "ticks": ""
             }
            },
            "type": "scattermapbox"
           }
          ],
          "scatterpolar": [
           {
            "marker": {
             "colorbar": {
              "outlinewidth": 0,
              "ticks": ""
             }
            },
            "type": "scatterpolar"
           }
          ],
          "scatterpolargl": [
           {
            "marker": {
             "colorbar": {
              "outlinewidth": 0,
              "ticks": ""
             }
            },
            "type": "scatterpolargl"
           }
          ],
          "scatterternary": [
           {
            "marker": {
             "colorbar": {
              "outlinewidth": 0,
              "ticks": ""
             }
            },
            "type": "scatterternary"
           }
          ],
          "surface": [
           {
            "colorbar": {
             "outlinewidth": 0,
             "ticks": ""
            },
            "colorscale": [
             [
              0,
              "#0d0887"
             ],
             [
              0.1111111111111111,
              "#46039f"
             ],
             [
              0.2222222222222222,
              "#7201a8"
             ],
             [
              0.3333333333333333,
              "#9c179e"
             ],
             [
              0.4444444444444444,
              "#bd3786"
             ],
             [
              0.5555555555555556,
              "#d8576b"
             ],
             [
              0.6666666666666666,
              "#ed7953"
             ],
             [
              0.7777777777777778,
              "#fb9f3a"
             ],
             [
              0.8888888888888888,
              "#fdca26"
             ],
             [
              1,
              "#f0f921"
             ]
            ],
            "type": "surface"
           }
          ],
          "table": [
           {
            "cells": {
             "fill": {
              "color": "#EBF0F8"
             },
             "line": {
              "color": "white"
             }
            },
            "header": {
             "fill": {
              "color": "#C8D4E3"
             },
             "line": {
              "color": "white"
             }
            },
            "type": "table"
           }
          ]
         },
         "layout": {
          "annotationdefaults": {
           "arrowcolor": "#2a3f5f",
           "arrowhead": 0,
           "arrowwidth": 1
          },
          "coloraxis": {
           "colorbar": {
            "outlinewidth": 0,
            "ticks": ""
           }
          },
          "colorscale": {
           "diverging": [
            [
             0,
             "#8e0152"
            ],
            [
             0.1,
             "#c51b7d"
            ],
            [
             0.2,
             "#de77ae"
            ],
            [
             0.3,
             "#f1b6da"
            ],
            [
             0.4,
             "#fde0ef"
            ],
            [
             0.5,
             "#f7f7f7"
            ],
            [
             0.6,
             "#e6f5d0"
            ],
            [
             0.7,
             "#b8e186"
            ],
            [
             0.8,
             "#7fbc41"
            ],
            [
             0.9,
             "#4d9221"
            ],
            [
             1,
             "#276419"
            ]
           ],
           "sequential": [
            [
             0,
             "#0d0887"
            ],
            [
             0.1111111111111111,
             "#46039f"
            ],
            [
             0.2222222222222222,
             "#7201a8"
            ],
            [
             0.3333333333333333,
             "#9c179e"
            ],
            [
             0.4444444444444444,
             "#bd3786"
            ],
            [
             0.5555555555555556,
             "#d8576b"
            ],
            [
             0.6666666666666666,
             "#ed7953"
            ],
            [
             0.7777777777777778,
             "#fb9f3a"
            ],
            [
             0.8888888888888888,
             "#fdca26"
            ],
            [
             1,
             "#f0f921"
            ]
           ],
           "sequentialminus": [
            [
             0,
             "#0d0887"
            ],
            [
             0.1111111111111111,
             "#46039f"
            ],
            [
             0.2222222222222222,
             "#7201a8"
            ],
            [
             0.3333333333333333,
             "#9c179e"
            ],
            [
             0.4444444444444444,
             "#bd3786"
            ],
            [
             0.5555555555555556,
             "#d8576b"
            ],
            [
             0.6666666666666666,
             "#ed7953"
            ],
            [
             0.7777777777777778,
             "#fb9f3a"
            ],
            [
             0.8888888888888888,
             "#fdca26"
            ],
            [
             1,
             "#f0f921"
            ]
           ]
          },
          "colorway": [
           "#636efa",
           "#EF553B",
           "#00cc96",
           "#ab63fa",
           "#FFA15A",
           "#19d3f3",
           "#FF6692",
           "#B6E880",
           "#FF97FF",
           "#FECB52"
          ],
          "font": {
           "color": "#2a3f5f"
          },
          "geo": {
           "bgcolor": "white",
           "lakecolor": "white",
           "landcolor": "#E5ECF6",
           "showlakes": true,
           "showland": true,
           "subunitcolor": "white"
          },
          "hoverlabel": {
           "align": "left"
          },
          "hovermode": "closest",
          "mapbox": {
           "style": "light"
          },
          "paper_bgcolor": "white",
          "plot_bgcolor": "#E5ECF6",
          "polar": {
           "angularaxis": {
            "gridcolor": "white",
            "linecolor": "white",
            "ticks": ""
           },
           "bgcolor": "#E5ECF6",
           "radialaxis": {
            "gridcolor": "white",
            "linecolor": "white",
            "ticks": ""
           }
          },
          "scene": {
           "xaxis": {
            "backgroundcolor": "#E5ECF6",
            "gridcolor": "white",
            "gridwidth": 2,
            "linecolor": "white",
            "showbackground": true,
            "ticks": "",
            "zerolinecolor": "white"
           },
           "yaxis": {
            "backgroundcolor": "#E5ECF6",
            "gridcolor": "white",
            "gridwidth": 2,
            "linecolor": "white",
            "showbackground": true,
            "ticks": "",
            "zerolinecolor": "white"
           },
           "zaxis": {
            "backgroundcolor": "#E5ECF6",
            "gridcolor": "white",
            "gridwidth": 2,
            "linecolor": "white",
            "showbackground": true,
            "ticks": "",
            "zerolinecolor": "white"
           }
          },
          "shapedefaults": {
           "line": {
            "color": "#2a3f5f"
           }
          },
          "ternary": {
           "aaxis": {
            "gridcolor": "white",
            "linecolor": "white",
            "ticks": ""
           },
           "baxis": {
            "gridcolor": "white",
            "linecolor": "white",
            "ticks": ""
           },
           "bgcolor": "#E5ECF6",
           "caxis": {
            "gridcolor": "white",
            "linecolor": "white",
            "ticks": ""
           }
          },
          "title": {
           "x": 0.05
          },
          "xaxis": {
           "automargin": true,
           "gridcolor": "white",
           "linecolor": "white",
           "ticks": "",
           "title": {
            "standoff": 15
           },
           "zerolinecolor": "white",
           "zerolinewidth": 2
          },
          "yaxis": {
           "automargin": true,
           "gridcolor": "white",
           "linecolor": "white",
           "ticks": "",
           "title": {
            "standoff": 15
           },
           "zerolinecolor": "white",
           "zerolinewidth": 2
          }
         }
        },
        "title": {
         "text": "UVic Investment Portfolio: Global Equities Investments"
        },
        "yaxis": {
         "title": {
          "text": "Canadian Dollars (CAD)"
         }
        }
       }
      }
     },
     "metadata": {},
     "output_type": "display_data"
    }
   ],
   "source": [
    "# isolate for global equities investments\n",
    "df = portfolio[portfolio.Category == 'GLOBAL EQUITIES']\n",
    "# make plot\n",
    "plot = update(grouped_bar(df), \"UVic Investment Portfolio: Global Equities Investments\")\n",
    "# show interactive plot\n",
    "plot.show()"
   ]
  },
  {
   "cell_type": "markdown",
   "metadata": {},
   "source": [
    "### 4. Alternatives Investments\n",
    "Alternative investments do not fall into a convential economic category. Real estate and tangible assets are examples of alternative investments."
   ]
  },
  {
   "cell_type": "code",
   "execution_count": 160,
   "metadata": {},
   "outputs": [
    {
     "data": {
      "application/vnd.plotly.v1+json": {
       "config": {
        "plotlyServerURL": "https://plot.ly"
       },
       "data": [
        {
         "name": "Original Cost (CAD)",
         "type": "bar",
         "x": [
          "WESTPEN PROPERTIES LTD COMMON",
          "MACQUARIE EUROPEAN INFRASTRUCTURE FUNDS"
         ],
         "y": [
          "29,368,768",
          "2,497,108"
         ]
        },
        {
         "name": "Market Value (CAD)",
         "type": "bar",
         "x": [
          "WESTPEN PROPERTIES LTD COMMON",
          "MACQUARIE EUROPEAN INFRASTRUCTURE FUNDS"
         ],
         "y": [
          "34,314,942",
          "2,543,921"
         ]
        },
        {
         "name": "Unrealized Gain (CAD)",
         "type": "bar",
         "x": [
          "WESTPEN PROPERTIES LTD COMMON",
          "MACQUARIE EUROPEAN INFRASTRUCTURE FUNDS"
         ],
         "y": [
          "4,946,174",
          "46,813"
         ]
        }
       ],
       "layout": {
        "barmode": "group",
        "font": {
         "color": "#1f1f1f",
         "family": "Courier New, monospace",
         "size": 10
        },
        "template": {
         "data": {
          "bar": [
           {
            "error_x": {
             "color": "#2a3f5f"
            },
            "error_y": {
             "color": "#2a3f5f"
            },
            "marker": {
             "line": {
              "color": "#E5ECF6",
              "width": 0.5
             }
            },
            "type": "bar"
           }
          ],
          "barpolar": [
           {
            "marker": {
             "line": {
              "color": "#E5ECF6",
              "width": 0.5
             }
            },
            "type": "barpolar"
           }
          ],
          "carpet": [
           {
            "aaxis": {
             "endlinecolor": "#2a3f5f",
             "gridcolor": "white",
             "linecolor": "white",
             "minorgridcolor": "white",
             "startlinecolor": "#2a3f5f"
            },
            "baxis": {
             "endlinecolor": "#2a3f5f",
             "gridcolor": "white",
             "linecolor": "white",
             "minorgridcolor": "white",
             "startlinecolor": "#2a3f5f"
            },
            "type": "carpet"
           }
          ],
          "choropleth": [
           {
            "colorbar": {
             "outlinewidth": 0,
             "ticks": ""
            },
            "type": "choropleth"
           }
          ],
          "contour": [
           {
            "colorbar": {
             "outlinewidth": 0,
             "ticks": ""
            },
            "colorscale": [
             [
              0,
              "#0d0887"
             ],
             [
              0.1111111111111111,
              "#46039f"
             ],
             [
              0.2222222222222222,
              "#7201a8"
             ],
             [
              0.3333333333333333,
              "#9c179e"
             ],
             [
              0.4444444444444444,
              "#bd3786"
             ],
             [
              0.5555555555555556,
              "#d8576b"
             ],
             [
              0.6666666666666666,
              "#ed7953"
             ],
             [
              0.7777777777777778,
              "#fb9f3a"
             ],
             [
              0.8888888888888888,
              "#fdca26"
             ],
             [
              1,
              "#f0f921"
             ]
            ],
            "type": "contour"
           }
          ],
          "contourcarpet": [
           {
            "colorbar": {
             "outlinewidth": 0,
             "ticks": ""
            },
            "type": "contourcarpet"
           }
          ],
          "heatmap": [
           {
            "colorbar": {
             "outlinewidth": 0,
             "ticks": ""
            },
            "colorscale": [
             [
              0,
              "#0d0887"
             ],
             [
              0.1111111111111111,
              "#46039f"
             ],
             [
              0.2222222222222222,
              "#7201a8"
             ],
             [
              0.3333333333333333,
              "#9c179e"
             ],
             [
              0.4444444444444444,
              "#bd3786"
             ],
             [
              0.5555555555555556,
              "#d8576b"
             ],
             [
              0.6666666666666666,
              "#ed7953"
             ],
             [
              0.7777777777777778,
              "#fb9f3a"
             ],
             [
              0.8888888888888888,
              "#fdca26"
             ],
             [
              1,
              "#f0f921"
             ]
            ],
            "type": "heatmap"
           }
          ],
          "heatmapgl": [
           {
            "colorbar": {
             "outlinewidth": 0,
             "ticks": ""
            },
            "colorscale": [
             [
              0,
              "#0d0887"
             ],
             [
              0.1111111111111111,
              "#46039f"
             ],
             [
              0.2222222222222222,
              "#7201a8"
             ],
             [
              0.3333333333333333,
              "#9c179e"
             ],
             [
              0.4444444444444444,
              "#bd3786"
             ],
             [
              0.5555555555555556,
              "#d8576b"
             ],
             [
              0.6666666666666666,
              "#ed7953"
             ],
             [
              0.7777777777777778,
              "#fb9f3a"
             ],
             [
              0.8888888888888888,
              "#fdca26"
             ],
             [
              1,
              "#f0f921"
             ]
            ],
            "type": "heatmapgl"
           }
          ],
          "histogram": [
           {
            "marker": {
             "colorbar": {
              "outlinewidth": 0,
              "ticks": ""
             }
            },
            "type": "histogram"
           }
          ],
          "histogram2d": [
           {
            "colorbar": {
             "outlinewidth": 0,
             "ticks": ""
            },
            "colorscale": [
             [
              0,
              "#0d0887"
             ],
             [
              0.1111111111111111,
              "#46039f"
             ],
             [
              0.2222222222222222,
              "#7201a8"
             ],
             [
              0.3333333333333333,
              "#9c179e"
             ],
             [
              0.4444444444444444,
              "#bd3786"
             ],
             [
              0.5555555555555556,
              "#d8576b"
             ],
             [
              0.6666666666666666,
              "#ed7953"
             ],
             [
              0.7777777777777778,
              "#fb9f3a"
             ],
             [
              0.8888888888888888,
              "#fdca26"
             ],
             [
              1,
              "#f0f921"
             ]
            ],
            "type": "histogram2d"
           }
          ],
          "histogram2dcontour": [
           {
            "colorbar": {
             "outlinewidth": 0,
             "ticks": ""
            },
            "colorscale": [
             [
              0,
              "#0d0887"
             ],
             [
              0.1111111111111111,
              "#46039f"
             ],
             [
              0.2222222222222222,
              "#7201a8"
             ],
             [
              0.3333333333333333,
              "#9c179e"
             ],
             [
              0.4444444444444444,
              "#bd3786"
             ],
             [
              0.5555555555555556,
              "#d8576b"
             ],
             [
              0.6666666666666666,
              "#ed7953"
             ],
             [
              0.7777777777777778,
              "#fb9f3a"
             ],
             [
              0.8888888888888888,
              "#fdca26"
             ],
             [
              1,
              "#f0f921"
             ]
            ],
            "type": "histogram2dcontour"
           }
          ],
          "mesh3d": [
           {
            "colorbar": {
             "outlinewidth": 0,
             "ticks": ""
            },
            "type": "mesh3d"
           }
          ],
          "parcoords": [
           {
            "line": {
             "colorbar": {
              "outlinewidth": 0,
              "ticks": ""
             }
            },
            "type": "parcoords"
           }
          ],
          "pie": [
           {
            "automargin": true,
            "type": "pie"
           }
          ],
          "scatter": [
           {
            "marker": {
             "colorbar": {
              "outlinewidth": 0,
              "ticks": ""
             }
            },
            "type": "scatter"
           }
          ],
          "scatter3d": [
           {
            "line": {
             "colorbar": {
              "outlinewidth": 0,
              "ticks": ""
             }
            },
            "marker": {
             "colorbar": {
              "outlinewidth": 0,
              "ticks": ""
             }
            },
            "type": "scatter3d"
           }
          ],
          "scattercarpet": [
           {
            "marker": {
             "colorbar": {
              "outlinewidth": 0,
              "ticks": ""
             }
            },
            "type": "scattercarpet"
           }
          ],
          "scattergeo": [
           {
            "marker": {
             "colorbar": {
              "outlinewidth": 0,
              "ticks": ""
             }
            },
            "type": "scattergeo"
           }
          ],
          "scattergl": [
           {
            "marker": {
             "colorbar": {
              "outlinewidth": 0,
              "ticks": ""
             }
            },
            "type": "scattergl"
           }
          ],
          "scattermapbox": [
           {
            "marker": {
             "colorbar": {
              "outlinewidth": 0,
              "ticks": ""
             }
            },
            "type": "scattermapbox"
           }
          ],
          "scatterpolar": [
           {
            "marker": {
             "colorbar": {
              "outlinewidth": 0,
              "ticks": ""
             }
            },
            "type": "scatterpolar"
           }
          ],
          "scatterpolargl": [
           {
            "marker": {
             "colorbar": {
              "outlinewidth": 0,
              "ticks": ""
             }
            },
            "type": "scatterpolargl"
           }
          ],
          "scatterternary": [
           {
            "marker": {
             "colorbar": {
              "outlinewidth": 0,
              "ticks": ""
             }
            },
            "type": "scatterternary"
           }
          ],
          "surface": [
           {
            "colorbar": {
             "outlinewidth": 0,
             "ticks": ""
            },
            "colorscale": [
             [
              0,
              "#0d0887"
             ],
             [
              0.1111111111111111,
              "#46039f"
             ],
             [
              0.2222222222222222,
              "#7201a8"
             ],
             [
              0.3333333333333333,
              "#9c179e"
             ],
             [
              0.4444444444444444,
              "#bd3786"
             ],
             [
              0.5555555555555556,
              "#d8576b"
             ],
             [
              0.6666666666666666,
              "#ed7953"
             ],
             [
              0.7777777777777778,
              "#fb9f3a"
             ],
             [
              0.8888888888888888,
              "#fdca26"
             ],
             [
              1,
              "#f0f921"
             ]
            ],
            "type": "surface"
           }
          ],
          "table": [
           {
            "cells": {
             "fill": {
              "color": "#EBF0F8"
             },
             "line": {
              "color": "white"
             }
            },
            "header": {
             "fill": {
              "color": "#C8D4E3"
             },
             "line": {
              "color": "white"
             }
            },
            "type": "table"
           }
          ]
         },
         "layout": {
          "annotationdefaults": {
           "arrowcolor": "#2a3f5f",
           "arrowhead": 0,
           "arrowwidth": 1
          },
          "coloraxis": {
           "colorbar": {
            "outlinewidth": 0,
            "ticks": ""
           }
          },
          "colorscale": {
           "diverging": [
            [
             0,
             "#8e0152"
            ],
            [
             0.1,
             "#c51b7d"
            ],
            [
             0.2,
             "#de77ae"
            ],
            [
             0.3,
             "#f1b6da"
            ],
            [
             0.4,
             "#fde0ef"
            ],
            [
             0.5,
             "#f7f7f7"
            ],
            [
             0.6,
             "#e6f5d0"
            ],
            [
             0.7,
             "#b8e186"
            ],
            [
             0.8,
             "#7fbc41"
            ],
            [
             0.9,
             "#4d9221"
            ],
            [
             1,
             "#276419"
            ]
           ],
           "sequential": [
            [
             0,
             "#0d0887"
            ],
            [
             0.1111111111111111,
             "#46039f"
            ],
            [
             0.2222222222222222,
             "#7201a8"
            ],
            [
             0.3333333333333333,
             "#9c179e"
            ],
            [
             0.4444444444444444,
             "#bd3786"
            ],
            [
             0.5555555555555556,
             "#d8576b"
            ],
            [
             0.6666666666666666,
             "#ed7953"
            ],
            [
             0.7777777777777778,
             "#fb9f3a"
            ],
            [
             0.8888888888888888,
             "#fdca26"
            ],
            [
             1,
             "#f0f921"
            ]
           ],
           "sequentialminus": [
            [
             0,
             "#0d0887"
            ],
            [
             0.1111111111111111,
             "#46039f"
            ],
            [
             0.2222222222222222,
             "#7201a8"
            ],
            [
             0.3333333333333333,
             "#9c179e"
            ],
            [
             0.4444444444444444,
             "#bd3786"
            ],
            [
             0.5555555555555556,
             "#d8576b"
            ],
            [
             0.6666666666666666,
             "#ed7953"
            ],
            [
             0.7777777777777778,
             "#fb9f3a"
            ],
            [
             0.8888888888888888,
             "#fdca26"
            ],
            [
             1,
             "#f0f921"
            ]
           ]
          },
          "colorway": [
           "#636efa",
           "#EF553B",
           "#00cc96",
           "#ab63fa",
           "#FFA15A",
           "#19d3f3",
           "#FF6692",
           "#B6E880",
           "#FF97FF",
           "#FECB52"
          ],
          "font": {
           "color": "#2a3f5f"
          },
          "geo": {
           "bgcolor": "white",
           "lakecolor": "white",
           "landcolor": "#E5ECF6",
           "showlakes": true,
           "showland": true,
           "subunitcolor": "white"
          },
          "hoverlabel": {
           "align": "left"
          },
          "hovermode": "closest",
          "mapbox": {
           "style": "light"
          },
          "paper_bgcolor": "white",
          "plot_bgcolor": "#E5ECF6",
          "polar": {
           "angularaxis": {
            "gridcolor": "white",
            "linecolor": "white",
            "ticks": ""
           },
           "bgcolor": "#E5ECF6",
           "radialaxis": {
            "gridcolor": "white",
            "linecolor": "white",
            "ticks": ""
           }
          },
          "scene": {
           "xaxis": {
            "backgroundcolor": "#E5ECF6",
            "gridcolor": "white",
            "gridwidth": 2,
            "linecolor": "white",
            "showbackground": true,
            "ticks": "",
            "zerolinecolor": "white"
           },
           "yaxis": {
            "backgroundcolor": "#E5ECF6",
            "gridcolor": "white",
            "gridwidth": 2,
            "linecolor": "white",
            "showbackground": true,
            "ticks": "",
            "zerolinecolor": "white"
           },
           "zaxis": {
            "backgroundcolor": "#E5ECF6",
            "gridcolor": "white",
            "gridwidth": 2,
            "linecolor": "white",
            "showbackground": true,
            "ticks": "",
            "zerolinecolor": "white"
           }
          },
          "shapedefaults": {
           "line": {
            "color": "#2a3f5f"
           }
          },
          "ternary": {
           "aaxis": {
            "gridcolor": "white",
            "linecolor": "white",
            "ticks": ""
           },
           "baxis": {
            "gridcolor": "white",
            "linecolor": "white",
            "ticks": ""
           },
           "bgcolor": "#E5ECF6",
           "caxis": {
            "gridcolor": "white",
            "linecolor": "white",
            "ticks": ""
           }
          },
          "title": {
           "x": 0.05
          },
          "xaxis": {
           "automargin": true,
           "gridcolor": "white",
           "linecolor": "white",
           "ticks": "",
           "title": {
            "standoff": 15
           },
           "zerolinecolor": "white",
           "zerolinewidth": 2
          },
          "yaxis": {
           "automargin": true,
           "gridcolor": "white",
           "linecolor": "white",
           "ticks": "",
           "title": {
            "standoff": 15
           },
           "zerolinecolor": "white",
           "zerolinewidth": 2
          }
         }
        },
        "title": {
         "text": "UVic Investment Portfolio: Alternatives Investments"
        },
        "yaxis": {
         "title": {
          "text": "Canadian Dollars (CAD)"
         }
        }
       }
      }
     },
     "metadata": {},
     "output_type": "display_data"
    }
   ],
   "source": [
    "# isolate for alternatives investments\n",
    "df = portfolio[portfolio.Category == 'ALTERNATIVES']\n",
    "# make plot\n",
    "plot = update(grouped_bar(df), \"UVic Investment Portfolio: Alternatives Investments\")\n",
    "# show interactive plot\n",
    "plot.show()"
   ]
  },
  {
   "cell_type": "code",
   "execution_count": null,
   "metadata": {},
   "outputs": [],
   "source": [
    "# Data aggregation and data cleaning\n",
    "fi_sum = portfolio[portfolio.Category=='FIXED INCOME']['Unrealized Gain (cashable profits in CAD)'].str.replace(',','').astype(int).sum()\n",
    "\n",
    "ce = portfolio[portfolio.Category=='CANADIAN EQUITIES']['Unrealized Gain (cashable profits in CAD)'].str.replace(',','')\n",
    "ce = ce.apply(pd.to_numeric, errors='coerce').dropna().astype(int)\n",
    "ce_sum = ce.sum()\n",
    "\n",
    "ge_sum = portfolio[portfolio.Category=='GLOBAL EQUITIES']['Unrealized Gain (cashable profits in CAD)'].str.replace(',','').astype(int).sum()\n",
    "\n",
    "a_sum = portfolio[portfolio.Category=='ALTERNATIVES']['Unrealized Gain (cashable profits in CAD)'].str.replace(',','').astype(int).sum()"
   ]
  },
  {
   "cell_type": "markdown",
   "metadata": {},
   "source": [
    "### Gain/Loss Summary\n",
    "The chart below shows total unrecognized gain for each investment category. This does not take into account total investment."
   ]
  },
  {
   "cell_type": "code",
   "execution_count": 235,
   "metadata": {},
   "outputs": [
    {
     "data": {
      "application/vnd.plotly.v1+json": {
       "config": {
        "plotlyServerURL": "https://plot.ly"
       },
       "data": [
        {
         "marker": {
          "color": "green"
         },
         "orientation": "h",
         "type": "bar",
         "x": [
          -116721,
          29051496,
          33086993,
          4992987
         ],
         "y": [
          "Fixed Income Investment Gains",
          "Canadian Equities Investment Gains",
          "Global Equities Investment Gains",
          "Alternative Investment Gains"
         ]
        }
       ],
       "layout": {
        "font": {
         "color": "#1f1f1f",
         "family": "Courier New, monospace",
         "size": 10
        },
        "template": {
         "data": {
          "bar": [
           {
            "error_x": {
             "color": "#2a3f5f"
            },
            "error_y": {
             "color": "#2a3f5f"
            },
            "marker": {
             "line": {
              "color": "#E5ECF6",
              "width": 0.5
             }
            },
            "type": "bar"
           }
          ],
          "barpolar": [
           {
            "marker": {
             "line": {
              "color": "#E5ECF6",
              "width": 0.5
             }
            },
            "type": "barpolar"
           }
          ],
          "carpet": [
           {
            "aaxis": {
             "endlinecolor": "#2a3f5f",
             "gridcolor": "white",
             "linecolor": "white",
             "minorgridcolor": "white",
             "startlinecolor": "#2a3f5f"
            },
            "baxis": {
             "endlinecolor": "#2a3f5f",
             "gridcolor": "white",
             "linecolor": "white",
             "minorgridcolor": "white",
             "startlinecolor": "#2a3f5f"
            },
            "type": "carpet"
           }
          ],
          "choropleth": [
           {
            "colorbar": {
             "outlinewidth": 0,
             "ticks": ""
            },
            "type": "choropleth"
           }
          ],
          "contour": [
           {
            "colorbar": {
             "outlinewidth": 0,
             "ticks": ""
            },
            "colorscale": [
             [
              0,
              "#0d0887"
             ],
             [
              0.1111111111111111,
              "#46039f"
             ],
             [
              0.2222222222222222,
              "#7201a8"
             ],
             [
              0.3333333333333333,
              "#9c179e"
             ],
             [
              0.4444444444444444,
              "#bd3786"
             ],
             [
              0.5555555555555556,
              "#d8576b"
             ],
             [
              0.6666666666666666,
              "#ed7953"
             ],
             [
              0.7777777777777778,
              "#fb9f3a"
             ],
             [
              0.8888888888888888,
              "#fdca26"
             ],
             [
              1,
              "#f0f921"
             ]
            ],
            "type": "contour"
           }
          ],
          "contourcarpet": [
           {
            "colorbar": {
             "outlinewidth": 0,
             "ticks": ""
            },
            "type": "contourcarpet"
           }
          ],
          "heatmap": [
           {
            "colorbar": {
             "outlinewidth": 0,
             "ticks": ""
            },
            "colorscale": [
             [
              0,
              "#0d0887"
             ],
             [
              0.1111111111111111,
              "#46039f"
             ],
             [
              0.2222222222222222,
              "#7201a8"
             ],
             [
              0.3333333333333333,
              "#9c179e"
             ],
             [
              0.4444444444444444,
              "#bd3786"
             ],
             [
              0.5555555555555556,
              "#d8576b"
             ],
             [
              0.6666666666666666,
              "#ed7953"
             ],
             [
              0.7777777777777778,
              "#fb9f3a"
             ],
             [
              0.8888888888888888,
              "#fdca26"
             ],
             [
              1,
              "#f0f921"
             ]
            ],
            "type": "heatmap"
           }
          ],
          "heatmapgl": [
           {
            "colorbar": {
             "outlinewidth": 0,
             "ticks": ""
            },
            "colorscale": [
             [
              0,
              "#0d0887"
             ],
             [
              0.1111111111111111,
              "#46039f"
             ],
             [
              0.2222222222222222,
              "#7201a8"
             ],
             [
              0.3333333333333333,
              "#9c179e"
             ],
             [
              0.4444444444444444,
              "#bd3786"
             ],
             [
              0.5555555555555556,
              "#d8576b"
             ],
             [
              0.6666666666666666,
              "#ed7953"
             ],
             [
              0.7777777777777778,
              "#fb9f3a"
             ],
             [
              0.8888888888888888,
              "#fdca26"
             ],
             [
              1,
              "#f0f921"
             ]
            ],
            "type": "heatmapgl"
           }
          ],
          "histogram": [
           {
            "marker": {
             "colorbar": {
              "outlinewidth": 0,
              "ticks": ""
             }
            },
            "type": "histogram"
           }
          ],
          "histogram2d": [
           {
            "colorbar": {
             "outlinewidth": 0,
             "ticks": ""
            },
            "colorscale": [
             [
              0,
              "#0d0887"
             ],
             [
              0.1111111111111111,
              "#46039f"
             ],
             [
              0.2222222222222222,
              "#7201a8"
             ],
             [
              0.3333333333333333,
              "#9c179e"
             ],
             [
              0.4444444444444444,
              "#bd3786"
             ],
             [
              0.5555555555555556,
              "#d8576b"
             ],
             [
              0.6666666666666666,
              "#ed7953"
             ],
             [
              0.7777777777777778,
              "#fb9f3a"
             ],
             [
              0.8888888888888888,
              "#fdca26"
             ],
             [
              1,
              "#f0f921"
             ]
            ],
            "type": "histogram2d"
           }
          ],
          "histogram2dcontour": [
           {
            "colorbar": {
             "outlinewidth": 0,
             "ticks": ""
            },
            "colorscale": [
             [
              0,
              "#0d0887"
             ],
             [
              0.1111111111111111,
              "#46039f"
             ],
             [
              0.2222222222222222,
              "#7201a8"
             ],
             [
              0.3333333333333333,
              "#9c179e"
             ],
             [
              0.4444444444444444,
              "#bd3786"
             ],
             [
              0.5555555555555556,
              "#d8576b"
             ],
             [
              0.6666666666666666,
              "#ed7953"
             ],
             [
              0.7777777777777778,
              "#fb9f3a"
             ],
             [
              0.8888888888888888,
              "#fdca26"
             ],
             [
              1,
              "#f0f921"
             ]
            ],
            "type": "histogram2dcontour"
           }
          ],
          "mesh3d": [
           {
            "colorbar": {
             "outlinewidth": 0,
             "ticks": ""
            },
            "type": "mesh3d"
           }
          ],
          "parcoords": [
           {
            "line": {
             "colorbar": {
              "outlinewidth": 0,
              "ticks": ""
             }
            },
            "type": "parcoords"
           }
          ],
          "pie": [
           {
            "automargin": true,
            "type": "pie"
           }
          ],
          "scatter": [
           {
            "marker": {
             "colorbar": {
              "outlinewidth": 0,
              "ticks": ""
             }
            },
            "type": "scatter"
           }
          ],
          "scatter3d": [
           {
            "line": {
             "colorbar": {
              "outlinewidth": 0,
              "ticks": ""
             }
            },
            "marker": {
             "colorbar": {
              "outlinewidth": 0,
              "ticks": ""
             }
            },
            "type": "scatter3d"
           }
          ],
          "scattercarpet": [
           {
            "marker": {
             "colorbar": {
              "outlinewidth": 0,
              "ticks": ""
             }
            },
            "type": "scattercarpet"
           }
          ],
          "scattergeo": [
           {
            "marker": {
             "colorbar": {
              "outlinewidth": 0,
              "ticks": ""
             }
            },
            "type": "scattergeo"
           }
          ],
          "scattergl": [
           {
            "marker": {
             "colorbar": {
              "outlinewidth": 0,
              "ticks": ""
             }
            },
            "type": "scattergl"
           }
          ],
          "scattermapbox": [
           {
            "marker": {
             "colorbar": {
              "outlinewidth": 0,
              "ticks": ""
             }
            },
            "type": "scattermapbox"
           }
          ],
          "scatterpolar": [
           {
            "marker": {
             "colorbar": {
              "outlinewidth": 0,
              "ticks": ""
             }
            },
            "type": "scatterpolar"
           }
          ],
          "scatterpolargl": [
           {
            "marker": {
             "colorbar": {
              "outlinewidth": 0,
              "ticks": ""
             }
            },
            "type": "scatterpolargl"
           }
          ],
          "scatterternary": [
           {
            "marker": {
             "colorbar": {
              "outlinewidth": 0,
              "ticks": ""
             }
            },
            "type": "scatterternary"
           }
          ],
          "surface": [
           {
            "colorbar": {
             "outlinewidth": 0,
             "ticks": ""
            },
            "colorscale": [
             [
              0,
              "#0d0887"
             ],
             [
              0.1111111111111111,
              "#46039f"
             ],
             [
              0.2222222222222222,
              "#7201a8"
             ],
             [
              0.3333333333333333,
              "#9c179e"
             ],
             [
              0.4444444444444444,
              "#bd3786"
             ],
             [
              0.5555555555555556,
              "#d8576b"
             ],
             [
              0.6666666666666666,
              "#ed7953"
             ],
             [
              0.7777777777777778,
              "#fb9f3a"
             ],
             [
              0.8888888888888888,
              "#fdca26"
             ],
             [
              1,
              "#f0f921"
             ]
            ],
            "type": "surface"
           }
          ],
          "table": [
           {
            "cells": {
             "fill": {
              "color": "#EBF0F8"
             },
             "line": {
              "color": "white"
             }
            },
            "header": {
             "fill": {
              "color": "#C8D4E3"
             },
             "line": {
              "color": "white"
             }
            },
            "type": "table"
           }
          ]
         },
         "layout": {
          "annotationdefaults": {
           "arrowcolor": "#2a3f5f",
           "arrowhead": 0,
           "arrowwidth": 1
          },
          "coloraxis": {
           "colorbar": {
            "outlinewidth": 0,
            "ticks": ""
           }
          },
          "colorscale": {
           "diverging": [
            [
             0,
             "#8e0152"
            ],
            [
             0.1,
             "#c51b7d"
            ],
            [
             0.2,
             "#de77ae"
            ],
            [
             0.3,
             "#f1b6da"
            ],
            [
             0.4,
             "#fde0ef"
            ],
            [
             0.5,
             "#f7f7f7"
            ],
            [
             0.6,
             "#e6f5d0"
            ],
            [
             0.7,
             "#b8e186"
            ],
            [
             0.8,
             "#7fbc41"
            ],
            [
             0.9,
             "#4d9221"
            ],
            [
             1,
             "#276419"
            ]
           ],
           "sequential": [
            [
             0,
             "#0d0887"
            ],
            [
             0.1111111111111111,
             "#46039f"
            ],
            [
             0.2222222222222222,
             "#7201a8"
            ],
            [
             0.3333333333333333,
             "#9c179e"
            ],
            [
             0.4444444444444444,
             "#bd3786"
            ],
            [
             0.5555555555555556,
             "#d8576b"
            ],
            [
             0.6666666666666666,
             "#ed7953"
            ],
            [
             0.7777777777777778,
             "#fb9f3a"
            ],
            [
             0.8888888888888888,
             "#fdca26"
            ],
            [
             1,
             "#f0f921"
            ]
           ],
           "sequentialminus": [
            [
             0,
             "#0d0887"
            ],
            [
             0.1111111111111111,
             "#46039f"
            ],
            [
             0.2222222222222222,
             "#7201a8"
            ],
            [
             0.3333333333333333,
             "#9c179e"
            ],
            [
             0.4444444444444444,
             "#bd3786"
            ],
            [
             0.5555555555555556,
             "#d8576b"
            ],
            [
             0.6666666666666666,
             "#ed7953"
            ],
            [
             0.7777777777777778,
             "#fb9f3a"
            ],
            [
             0.8888888888888888,
             "#fdca26"
            ],
            [
             1,
             "#f0f921"
            ]
           ]
          },
          "colorway": [
           "#636efa",
           "#EF553B",
           "#00cc96",
           "#ab63fa",
           "#FFA15A",
           "#19d3f3",
           "#FF6692",
           "#B6E880",
           "#FF97FF",
           "#FECB52"
          ],
          "font": {
           "color": "#2a3f5f"
          },
          "geo": {
           "bgcolor": "white",
           "lakecolor": "white",
           "landcolor": "#E5ECF6",
           "showlakes": true,
           "showland": true,
           "subunitcolor": "white"
          },
          "hoverlabel": {
           "align": "left"
          },
          "hovermode": "closest",
          "mapbox": {
           "style": "light"
          },
          "paper_bgcolor": "white",
          "plot_bgcolor": "#E5ECF6",
          "polar": {
           "angularaxis": {
            "gridcolor": "white",
            "linecolor": "white",
            "ticks": ""
           },
           "bgcolor": "#E5ECF6",
           "radialaxis": {
            "gridcolor": "white",
            "linecolor": "white",
            "ticks": ""
           }
          },
          "scene": {
           "xaxis": {
            "backgroundcolor": "#E5ECF6",
            "gridcolor": "white",
            "gridwidth": 2,
            "linecolor": "white",
            "showbackground": true,
            "ticks": "",
            "zerolinecolor": "white"
           },
           "yaxis": {
            "backgroundcolor": "#E5ECF6",
            "gridcolor": "white",
            "gridwidth": 2,
            "linecolor": "white",
            "showbackground": true,
            "ticks": "",
            "zerolinecolor": "white"
           },
           "zaxis": {
            "backgroundcolor": "#E5ECF6",
            "gridcolor": "white",
            "gridwidth": 2,
            "linecolor": "white",
            "showbackground": true,
            "ticks": "",
            "zerolinecolor": "white"
           }
          },
          "shapedefaults": {
           "line": {
            "color": "#2a3f5f"
           }
          },
          "ternary": {
           "aaxis": {
            "gridcolor": "white",
            "linecolor": "white",
            "ticks": ""
           },
           "baxis": {
            "gridcolor": "white",
            "linecolor": "white",
            "ticks": ""
           },
           "bgcolor": "#E5ECF6",
           "caxis": {
            "gridcolor": "white",
            "linecolor": "white",
            "ticks": ""
           }
          },
          "title": {
           "x": 0.05
          },
          "xaxis": {
           "automargin": true,
           "gridcolor": "white",
           "linecolor": "white",
           "ticks": "",
           "title": {
            "standoff": 15
           },
           "zerolinecolor": "white",
           "zerolinewidth": 2
          },
          "yaxis": {
           "automargin": true,
           "gridcolor": "white",
           "linecolor": "white",
           "ticks": "",
           "title": {
            "standoff": 15
           },
           "zerolinecolor": "white",
           "zerolinewidth": 2
          }
         }
        },
        "title": {
         "text": "UVic Portfolio Breakdown: Unrecognized Gain (CAD)"
        },
        "yaxis": {
         "title": {
          "text": "Canadian Dollars (CAD)"
         }
        }
       }
      }
     },
     "metadata": {},
     "output_type": "display_data"
    }
   ],
   "source": [
    "# Make total plot\n",
    "labels = ['Fixed Income Investment Gains', 'Canadian Equities Investment Gains', 'Global Equities Investment Gains', 'Alternative Investment Gains']\n",
    "y = [fi_sum, ce_sum, ge_sum, a_sum]\n",
    "\n",
    "fig = go.Figure([go.Bar(x=y, y=labels, marker_color = 'green', orientation='h')])\n",
    "fig = update_total(fig)\n",
    "fig.show()\n",
    "\n",
    "\n"
   ]
  }
 ]
}